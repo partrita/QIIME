{
 "cells": [
  {
   "cell_type": "code",
   "execution_count": 2,
   "metadata": {},
   "outputs": [],
   "source": [
    "import pandas as pd"
   ]
  },
  {
   "cell_type": "code",
   "execution_count": 84,
   "metadata": {},
   "outputs": [
    {
     "data": {
      "text/html": [
       "<div>\n",
       "<style scoped>\n",
       "    .dataframe tbody tr th:only-of-type {\n",
       "        vertical-align: middle;\n",
       "    }\n",
       "\n",
       "    .dataframe tbody tr th {\n",
       "        vertical-align: top;\n",
       "    }\n",
       "\n",
       "    .dataframe thead th {\n",
       "        text-align: right;\n",
       "    }\n",
       "</style>\n",
       "<table border=\"1\" class=\"dataframe\">\n",
       "  <thead>\n",
       "    <tr style=\"text-align: right;\">\n",
       "      <th></th>\n",
       "      <th>Number</th>\n",
       "      <th>Gene</th>\n",
       "      <th>Solubility</th>\n",
       "      <th>Sequence</th>\n",
       "      <th>A</th>\n",
       "      <th>C</th>\n",
       "      <th>D</th>\n",
       "      <th>E</th>\n",
       "      <th>F</th>\n",
       "      <th>G</th>\n",
       "      <th>...</th>\n",
       "      <th>gravy</th>\n",
       "      <th>flexibility_mean</th>\n",
       "      <th>flexibility_std</th>\n",
       "      <th>flexibility_median</th>\n",
       "      <th>flexibility_hmean</th>\n",
       "      <th>flexibility_gmean</th>\n",
       "      <th>flexibility_min</th>\n",
       "      <th>flexibility_max</th>\n",
       "      <th>flexibility_skew</th>\n",
       "      <th>flexibility_kurtosis</th>\n",
       "    </tr>\n",
       "  </thead>\n",
       "  <tbody>\n",
       "    <tr>\n",
       "      <th>3143</th>\n",
       "      <td>3148</td>\n",
       "      <td>ytfG</td>\n",
       "      <td>106</td>\n",
       "      <td>MIAITGATGQLGHYVIESLMKTVPASQIVAIVRNPAKAQALAAQGI...</td>\n",
       "      <td>0.171329</td>\n",
       "      <td>0.000000</td>\n",
       "      <td>0.052448</td>\n",
       "      <td>0.052448</td>\n",
       "      <td>0.017483</td>\n",
       "      <td>0.087413</td>\n",
       "      <td>...</td>\n",
       "      <td>0.051748</td>\n",
       "      <td>1.000323</td>\n",
       "      <td>0.021540</td>\n",
       "      <td>0.999869</td>\n",
       "      <td>0.999860</td>\n",
       "      <td>1.000092</td>\n",
       "      <td>0.948167</td>\n",
       "      <td>1.054274</td>\n",
       "      <td>0.116313</td>\n",
       "      <td>-0.504896</td>\n",
       "    </tr>\n",
       "    <tr>\n",
       "      <th>3144</th>\n",
       "      <td>3149</td>\n",
       "      <td>ytfN</td>\n",
       "      <td>32</td>\n",
       "      <td>MSLWKKISLGVVIVILLLLGSVAFLVGTTSGLHLVFKAADRWVPGL...</td>\n",
       "      <td>0.066720</td>\n",
       "      <td>0.003177</td>\n",
       "      <td>0.065925</td>\n",
       "      <td>0.054805</td>\n",
       "      <td>0.023828</td>\n",
       "      <td>0.090548</td>\n",
       "      <td>...</td>\n",
       "      <td>-0.182685</td>\n",
       "      <td>1.003100</td>\n",
       "      <td>0.024786</td>\n",
       "      <td>1.002798</td>\n",
       "      <td>1.002490</td>\n",
       "      <td>1.002794</td>\n",
       "      <td>0.932905</td>\n",
       "      <td>1.079036</td>\n",
       "      <td>0.175824</td>\n",
       "      <td>-0.293648</td>\n",
       "    </tr>\n",
       "    <tr>\n",
       "      <th>3145</th>\n",
       "      <td>3150</td>\n",
       "      <td>yzcX</td>\n",
       "      <td>27</td>\n",
       "      <td>MNDSEFHRLADQLWLTIEERLDDWDGDSDIDCEINGGVLTITFENG...</td>\n",
       "      <td>0.047170</td>\n",
       "      <td>0.018868</td>\n",
       "      <td>0.113208</td>\n",
       "      <td>0.094340</td>\n",
       "      <td>0.047170</td>\n",
       "      <td>0.084906</td>\n",
       "      <td>...</td>\n",
       "      <td>-0.591509</td>\n",
       "      <td>1.001490</td>\n",
       "      <td>0.022863</td>\n",
       "      <td>1.000571</td>\n",
       "      <td>1.000967</td>\n",
       "      <td>1.001229</td>\n",
       "      <td>0.951655</td>\n",
       "      <td>1.048607</td>\n",
       "      <td>-0.084948</td>\n",
       "      <td>-0.807064</td>\n",
       "    </tr>\n",
       "    <tr>\n",
       "      <th>3146</th>\n",
       "      <td>3151</td>\n",
       "      <td>yzfA</td>\n",
       "      <td>88</td>\n",
       "      <td>MRIFVYGSLRHKQGNSHWMTNAQLLGDFSIDNYQLYSLGHYPGAVP...</td>\n",
       "      <td>0.061947</td>\n",
       "      <td>0.000000</td>\n",
       "      <td>0.070796</td>\n",
       "      <td>0.035398</td>\n",
       "      <td>0.017699</td>\n",
       "      <td>0.115044</td>\n",
       "      <td>...</td>\n",
       "      <td>-0.514159</td>\n",
       "      <td>0.995326</td>\n",
       "      <td>0.020807</td>\n",
       "      <td>0.995381</td>\n",
       "      <td>0.994891</td>\n",
       "      <td>0.995108</td>\n",
       "      <td>0.951667</td>\n",
       "      <td>1.043298</td>\n",
       "      <td>-0.000384</td>\n",
       "      <td>-0.537425</td>\n",
       "    </tr>\n",
       "    <tr>\n",
       "      <th>3147</th>\n",
       "      <td>3152</td>\n",
       "      <td>yzgL</td>\n",
       "      <td>30</td>\n",
       "      <td>MQNRKWILTSLVMTFFGIPILAQFLAVVIAMLGVGLAGIIEVCNIL...</td>\n",
       "      <td>0.075269</td>\n",
       "      <td>0.021505</td>\n",
       "      <td>0.010753</td>\n",
       "      <td>0.021505</td>\n",
       "      <td>0.086022</td>\n",
       "      <td>0.107527</td>\n",
       "      <td>...</td>\n",
       "      <td>1.395699</td>\n",
       "      <td>0.969298</td>\n",
       "      <td>0.019198</td>\n",
       "      <td>0.963935</td>\n",
       "      <td>0.968922</td>\n",
       "      <td>0.969109</td>\n",
       "      <td>0.930988</td>\n",
       "      <td>1.022298</td>\n",
       "      <td>0.639452</td>\n",
       "      <td>-0.070879</td>\n",
       "    </tr>\n",
       "  </tbody>\n",
       "</table>\n",
       "<p>5 rows × 43 columns</p>\n",
       "</div>"
      ],
      "text/plain": [
       "      Number  Gene  Solubility  \\\n",
       "3143    3148  ytfG         106   \n",
       "3144    3149  ytfN          32   \n",
       "3145    3150  yzcX          27   \n",
       "3146    3151  yzfA          88   \n",
       "3147    3152  yzgL          30   \n",
       "\n",
       "                                               Sequence         A         C  \\\n",
       "3143  MIAITGATGQLGHYVIESLMKTVPASQIVAIVRNPAKAQALAAQGI...  0.171329  0.000000   \n",
       "3144  MSLWKKISLGVVIVILLLLGSVAFLVGTTSGLHLVFKAADRWVPGL...  0.066720  0.003177   \n",
       "3145  MNDSEFHRLADQLWLTIEERLDDWDGDSDIDCEINGGVLTITFENG...  0.047170  0.018868   \n",
       "3146  MRIFVYGSLRHKQGNSHWMTNAQLLGDFSIDNYQLYSLGHYPGAVP...  0.061947  0.000000   \n",
       "3147  MQNRKWILTSLVMTFFGIPILAQFLAVVIAMLGVGLAGIIEVCNIL...  0.075269  0.021505   \n",
       "\n",
       "             D         E         F         G  ...     gravy  flexibility_mean  \\\n",
       "3143  0.052448  0.052448  0.017483  0.087413  ...  0.051748          1.000323   \n",
       "3144  0.065925  0.054805  0.023828  0.090548  ... -0.182685          1.003100   \n",
       "3145  0.113208  0.094340  0.047170  0.084906  ... -0.591509          1.001490   \n",
       "3146  0.070796  0.035398  0.017699  0.115044  ... -0.514159          0.995326   \n",
       "3147  0.010753  0.021505  0.086022  0.107527  ...  1.395699          0.969298   \n",
       "\n",
       "      flexibility_std  flexibility_median  flexibility_hmean  \\\n",
       "3143         0.021540            0.999869           0.999860   \n",
       "3144         0.024786            1.002798           1.002490   \n",
       "3145         0.022863            1.000571           1.000967   \n",
       "3146         0.020807            0.995381           0.994891   \n",
       "3147         0.019198            0.963935           0.968922   \n",
       "\n",
       "      flexibility_gmean  flexibility_min  flexibility_max  flexibility_skew  \\\n",
       "3143           1.000092         0.948167         1.054274          0.116313   \n",
       "3144           1.002794         0.932905         1.079036          0.175824   \n",
       "3145           1.001229         0.951655         1.048607         -0.084948   \n",
       "3146           0.995108         0.951667         1.043298         -0.000384   \n",
       "3147           0.969109         0.930988         1.022298          0.639452   \n",
       "\n",
       "      flexibility_kurtosis  \n",
       "3143             -0.504896  \n",
       "3144             -0.293648  \n",
       "3145             -0.807064  \n",
       "3146             -0.537425  \n",
       "3147             -0.070879  \n",
       "\n",
       "[5 rows x 43 columns]"
      ]
     },
     "execution_count": 84,
     "metadata": {},
     "output_type": "execute_result"
    }
   ],
   "source": [
    "df = pd.read_csv('Engineered_E_coli_protein.csv')\n",
    "df.tail()"
   ]
  },
  {
   "cell_type": "markdown",
   "metadata": {},
   "source": [
    "전체 3147개 이콜라이 단백질 서열정보와 솔루빌리티"
   ]
  },
  {
   "cell_type": "code",
   "execution_count": 85,
   "metadata": {},
   "outputs": [
    {
     "name": "stdout",
     "output_type": "stream",
     "text": [
      "<class 'pandas.core.frame.DataFrame'>\n",
      "RangeIndex: 3148 entries, 0 to 3147\n",
      "Data columns (total 43 columns):\n",
      "Number                                3148 non-null int64\n",
      "Gene                                  3148 non-null object\n",
      "Solubility                            3148 non-null int64\n",
      "Sequence                              3148 non-null object\n",
      "A                                     3148 non-null float64\n",
      "C                                     3148 non-null float64\n",
      "D                                     3148 non-null float64\n",
      "E                                     3148 non-null float64\n",
      "F                                     3148 non-null float64\n",
      "G                                     3148 non-null float64\n",
      "H                                     3148 non-null float64\n",
      "I                                     3148 non-null float64\n",
      "K                                     3148 non-null float64\n",
      "L                                     3148 non-null float64\n",
      "M                                     3148 non-null float64\n",
      "N                                     3148 non-null float64\n",
      "P                                     3148 non-null float64\n",
      "Q                                     3148 non-null float64\n",
      "R                                     3148 non-null float64\n",
      "S                                     3148 non-null float64\n",
      "T                                     3148 non-null float64\n",
      "V                                     3148 non-null float64\n",
      "W                                     3148 non-null float64\n",
      "Y                                     3148 non-null float64\n",
      "molecular_weight                      3148 non-null float64\n",
      "aromaticity                           3148 non-null float64\n",
      "instability_index                     3148 non-null float64\n",
      "isoelectric_point                     3148 non-null float64\n",
      "structure_fraction_helix              3148 non-null float64\n",
      "structure_fraction_turn               3148 non-null float64\n",
      "structure_fraction_sheet              3148 non-null float64\n",
      "extinction_coefficient_reduced        3148 non-null int64\n",
      "extinction_coefficient_non_reduced    3148 non-null int64\n",
      "gravy                                 3148 non-null float64\n",
      "flexibility_mean                      3148 non-null float64\n",
      "flexibility_std                       3148 non-null float64\n",
      "flexibility_median                    3148 non-null float64\n",
      "flexibility_hmean                     3148 non-null float64\n",
      "flexibility_gmean                     3148 non-null float64\n",
      "flexibility_min                       3148 non-null float64\n",
      "flexibility_max                       3148 non-null float64\n",
      "flexibility_skew                      3148 non-null float64\n",
      "flexibility_kurtosis                  3148 non-null float64\n",
      "dtypes: float64(37), int64(4), object(2)\n",
      "memory usage: 1.0+ MB\n"
     ]
    }
   ],
   "source": [
    "df.info()"
   ]
  },
  {
   "cell_type": "code",
   "execution_count": 86,
   "metadata": {},
   "outputs": [
    {
     "data": {
      "text/html": [
       "<div>\n",
       "<style scoped>\n",
       "    .dataframe tbody tr th:only-of-type {\n",
       "        vertical-align: middle;\n",
       "    }\n",
       "\n",
       "    .dataframe tbody tr th {\n",
       "        vertical-align: top;\n",
       "    }\n",
       "\n",
       "    .dataframe thead th {\n",
       "        text-align: right;\n",
       "    }\n",
       "</style>\n",
       "<table border=\"1\" class=\"dataframe\">\n",
       "  <thead>\n",
       "    <tr style=\"text-align: right;\">\n",
       "      <th></th>\n",
       "      <th>Number</th>\n",
       "      <th>Solubility</th>\n",
       "      <th>A</th>\n",
       "      <th>C</th>\n",
       "      <th>D</th>\n",
       "      <th>E</th>\n",
       "      <th>F</th>\n",
       "      <th>G</th>\n",
       "      <th>H</th>\n",
       "      <th>I</th>\n",
       "      <th>...</th>\n",
       "      <th>gravy</th>\n",
       "      <th>flexibility_mean</th>\n",
       "      <th>flexibility_std</th>\n",
       "      <th>flexibility_median</th>\n",
       "      <th>flexibility_hmean</th>\n",
       "      <th>flexibility_gmean</th>\n",
       "      <th>flexibility_min</th>\n",
       "      <th>flexibility_max</th>\n",
       "      <th>flexibility_skew</th>\n",
       "      <th>flexibility_kurtosis</th>\n",
       "    </tr>\n",
       "  </thead>\n",
       "  <tbody>\n",
       "    <tr>\n",
       "      <th>count</th>\n",
       "      <td>3148.000000</td>\n",
       "      <td>3148.000000</td>\n",
       "      <td>3148.000000</td>\n",
       "      <td>3148.000000</td>\n",
       "      <td>3148.000000</td>\n",
       "      <td>3148.000000</td>\n",
       "      <td>3148.000000</td>\n",
       "      <td>3148.000000</td>\n",
       "      <td>3148.000000</td>\n",
       "      <td>3148.000000</td>\n",
       "      <td>...</td>\n",
       "      <td>3148.000000</td>\n",
       "      <td>3148.000000</td>\n",
       "      <td>3148.000000</td>\n",
       "      <td>3148.000000</td>\n",
       "      <td>3148.000000</td>\n",
       "      <td>3148.000000</td>\n",
       "      <td>3148.000000</td>\n",
       "      <td>3148.000000</td>\n",
       "      <td>3148.000000</td>\n",
       "      <td>3148.000000</td>\n",
       "    </tr>\n",
       "    <tr>\n",
       "      <th>mean</th>\n",
       "      <td>1574.665502</td>\n",
       "      <td>49.002541</td>\n",
       "      <td>0.093592</td>\n",
       "      <td>0.012910</td>\n",
       "      <td>0.053903</td>\n",
       "      <td>0.061896</td>\n",
       "      <td>0.036498</td>\n",
       "      <td>0.070578</td>\n",
       "      <td>0.023977</td>\n",
       "      <td>0.058930</td>\n",
       "      <td>...</td>\n",
       "      <td>-0.147113</td>\n",
       "      <td>0.997623</td>\n",
       "      <td>0.024610</td>\n",
       "      <td>0.997044</td>\n",
       "      <td>0.997011</td>\n",
       "      <td>0.997317</td>\n",
       "      <td>0.940615</td>\n",
       "      <td>1.060624</td>\n",
       "      <td>0.105105</td>\n",
       "      <td>-0.541406</td>\n",
       "    </tr>\n",
       "    <tr>\n",
       "      <th>std</th>\n",
       "      <td>909.158084</td>\n",
       "      <td>33.398919</td>\n",
       "      <td>0.027916</td>\n",
       "      <td>0.011823</td>\n",
       "      <td>0.017879</td>\n",
       "      <td>0.022727</td>\n",
       "      <td>0.016239</td>\n",
       "      <td>0.023758</td>\n",
       "      <td>0.013145</td>\n",
       "      <td>0.020419</td>\n",
       "      <td>...</td>\n",
       "      <td>0.337310</td>\n",
       "      <td>0.006706</td>\n",
       "      <td>0.002267</td>\n",
       "      <td>0.007453</td>\n",
       "      <td>0.006718</td>\n",
       "      <td>0.006712</td>\n",
       "      <td>0.008393</td>\n",
       "      <td>0.010076</td>\n",
       "      <td>0.174546</td>\n",
       "      <td>0.208449</td>\n",
       "    </tr>\n",
       "    <tr>\n",
       "      <th>min</th>\n",
       "      <td>1.000000</td>\n",
       "      <td>0.000000</td>\n",
       "      <td>0.012500</td>\n",
       "      <td>0.000000</td>\n",
       "      <td>0.000000</td>\n",
       "      <td>0.000000</td>\n",
       "      <td>0.000000</td>\n",
       "      <td>0.000000</td>\n",
       "      <td>0.000000</td>\n",
       "      <td>0.000000</td>\n",
       "      <td>...</td>\n",
       "      <td>-1.712281</td>\n",
       "      <td>0.954846</td>\n",
       "      <td>0.015813</td>\n",
       "      <td>0.947970</td>\n",
       "      <td>0.954504</td>\n",
       "      <td>0.954674</td>\n",
       "      <td>0.912095</td>\n",
       "      <td>1.000571</td>\n",
       "      <td>-0.783561</td>\n",
       "      <td>-1.355014</td>\n",
       "    </tr>\n",
       "    <tr>\n",
       "      <th>25%</th>\n",
       "      <td>787.750000</td>\n",
       "      <td>18.000000</td>\n",
       "      <td>0.075758</td>\n",
       "      <td>0.005277</td>\n",
       "      <td>0.043011</td>\n",
       "      <td>0.047986</td>\n",
       "      <td>0.025890</td>\n",
       "      <td>0.055265</td>\n",
       "      <td>0.014509</td>\n",
       "      <td>0.044915</td>\n",
       "      <td>...</td>\n",
       "      <td>-0.337482</td>\n",
       "      <td>0.995471</td>\n",
       "      <td>0.023156</td>\n",
       "      <td>0.994565</td>\n",
       "      <td>0.994902</td>\n",
       "      <td>0.995187</td>\n",
       "      <td>0.935369</td>\n",
       "      <td>1.054357</td>\n",
       "      <td>0.010429</td>\n",
       "      <td>-0.664991</td>\n",
       "    </tr>\n",
       "    <tr>\n",
       "      <th>50%</th>\n",
       "      <td>1574.500000</td>\n",
       "      <td>43.000000</td>\n",
       "      <td>0.091882</td>\n",
       "      <td>0.011033</td>\n",
       "      <td>0.054054</td>\n",
       "      <td>0.061473</td>\n",
       "      <td>0.034617</td>\n",
       "      <td>0.069767</td>\n",
       "      <td>0.022788</td>\n",
       "      <td>0.057020</td>\n",
       "      <td>...</td>\n",
       "      <td>-0.182439</td>\n",
       "      <td>0.998133</td>\n",
       "      <td>0.024376</td>\n",
       "      <td>0.997607</td>\n",
       "      <td>0.997534</td>\n",
       "      <td>0.997832</td>\n",
       "      <td>0.941119</td>\n",
       "      <td>1.060905</td>\n",
       "      <td>0.104496</td>\n",
       "      <td>-0.552774</td>\n",
       "    </tr>\n",
       "    <tr>\n",
       "      <th>75%</th>\n",
       "      <td>2361.250000</td>\n",
       "      <td>79.000000</td>\n",
       "      <td>0.110102</td>\n",
       "      <td>0.017544</td>\n",
       "      <td>0.064695</td>\n",
       "      <td>0.074736</td>\n",
       "      <td>0.045304</td>\n",
       "      <td>0.085745</td>\n",
       "      <td>0.031821</td>\n",
       "      <td>0.070130</td>\n",
       "      <td>...</td>\n",
       "      <td>-0.020990</td>\n",
       "      <td>1.001112</td>\n",
       "      <td>0.025751</td>\n",
       "      <td>1.000841</td>\n",
       "      <td>1.000496</td>\n",
       "      <td>1.000800</td>\n",
       "      <td>0.945979</td>\n",
       "      <td>1.067405</td>\n",
       "      <td>0.198835</td>\n",
       "      <td>-0.435561</td>\n",
       "    </tr>\n",
       "    <tr>\n",
       "      <th>max</th>\n",
       "      <td>3152.000000</td>\n",
       "      <td>147.000000</td>\n",
       "      <td>0.308789</td>\n",
       "      <td>0.102857</td>\n",
       "      <td>0.166667</td>\n",
       "      <td>0.197531</td>\n",
       "      <td>0.149254</td>\n",
       "      <td>0.237288</td>\n",
       "      <td>0.132653</td>\n",
       "      <td>0.185185</td>\n",
       "      <td>...</td>\n",
       "      <td>1.889655</td>\n",
       "      <td>1.035619</td>\n",
       "      <td>0.042443</td>\n",
       "      <td>1.036857</td>\n",
       "      <td>1.035343</td>\n",
       "      <td>1.035481</td>\n",
       "      <td>0.994155</td>\n",
       "      <td>1.100286</td>\n",
       "      <td>1.039824</td>\n",
       "      <td>0.970267</td>\n",
       "    </tr>\n",
       "  </tbody>\n",
       "</table>\n",
       "<p>8 rows × 41 columns</p>\n",
       "</div>"
      ],
      "text/plain": [
       "            Number   Solubility            A            C            D  \\\n",
       "count  3148.000000  3148.000000  3148.000000  3148.000000  3148.000000   \n",
       "mean   1574.665502    49.002541     0.093592     0.012910     0.053903   \n",
       "std     909.158084    33.398919     0.027916     0.011823     0.017879   \n",
       "min       1.000000     0.000000     0.012500     0.000000     0.000000   \n",
       "25%     787.750000    18.000000     0.075758     0.005277     0.043011   \n",
       "50%    1574.500000    43.000000     0.091882     0.011033     0.054054   \n",
       "75%    2361.250000    79.000000     0.110102     0.017544     0.064695   \n",
       "max    3152.000000   147.000000     0.308789     0.102857     0.166667   \n",
       "\n",
       "                 E            F            G            H            I  ...  \\\n",
       "count  3148.000000  3148.000000  3148.000000  3148.000000  3148.000000  ...   \n",
       "mean      0.061896     0.036498     0.070578     0.023977     0.058930  ...   \n",
       "std       0.022727     0.016239     0.023758     0.013145     0.020419  ...   \n",
       "min       0.000000     0.000000     0.000000     0.000000     0.000000  ...   \n",
       "25%       0.047986     0.025890     0.055265     0.014509     0.044915  ...   \n",
       "50%       0.061473     0.034617     0.069767     0.022788     0.057020  ...   \n",
       "75%       0.074736     0.045304     0.085745     0.031821     0.070130  ...   \n",
       "max       0.197531     0.149254     0.237288     0.132653     0.185185  ...   \n",
       "\n",
       "             gravy  flexibility_mean  flexibility_std  flexibility_median  \\\n",
       "count  3148.000000       3148.000000      3148.000000         3148.000000   \n",
       "mean     -0.147113          0.997623         0.024610            0.997044   \n",
       "std       0.337310          0.006706         0.002267            0.007453   \n",
       "min      -1.712281          0.954846         0.015813            0.947970   \n",
       "25%      -0.337482          0.995471         0.023156            0.994565   \n",
       "50%      -0.182439          0.998133         0.024376            0.997607   \n",
       "75%      -0.020990          1.001112         0.025751            1.000841   \n",
       "max       1.889655          1.035619         0.042443            1.036857   \n",
       "\n",
       "       flexibility_hmean  flexibility_gmean  flexibility_min  flexibility_max  \\\n",
       "count        3148.000000        3148.000000      3148.000000      3148.000000   \n",
       "mean            0.997011           0.997317         0.940615         1.060624   \n",
       "std             0.006718           0.006712         0.008393         0.010076   \n",
       "min             0.954504           0.954674         0.912095         1.000571   \n",
       "25%             0.994902           0.995187         0.935369         1.054357   \n",
       "50%             0.997534           0.997832         0.941119         1.060905   \n",
       "75%             1.000496           1.000800         0.945979         1.067405   \n",
       "max             1.035343           1.035481         0.994155         1.100286   \n",
       "\n",
       "       flexibility_skew  flexibility_kurtosis  \n",
       "count       3148.000000           3148.000000  \n",
       "mean           0.105105             -0.541406  \n",
       "std            0.174546              0.208449  \n",
       "min           -0.783561             -1.355014  \n",
       "25%            0.010429             -0.664991  \n",
       "50%            0.104496             -0.552774  \n",
       "75%            0.198835             -0.435561  \n",
       "max            1.039824              0.970267  \n",
       "\n",
       "[8 rows x 41 columns]"
      ]
     },
     "execution_count": 86,
     "metadata": {},
     "output_type": "execute_result"
    }
   ],
   "source": [
    "df.describe()"
   ]
  },
  {
   "cell_type": "code",
   "execution_count": 87,
   "metadata": {},
   "outputs": [
    {
     "data": {
      "text/plain": [
       "Index(['Number', 'Gene', 'Solubility', 'Sequence', 'A', 'C', 'D', 'E', 'F',\n",
       "       'G', 'H', 'I', 'K', 'L', 'M', 'N', 'P', 'Q', 'R', 'S', 'T', 'V', 'W',\n",
       "       'Y', 'molecular_weight', 'aromaticity', 'instability_index',\n",
       "       'isoelectric_point', 'structure_fraction_helix',\n",
       "       'structure_fraction_turn', 'structure_fraction_sheet',\n",
       "       'extinction_coefficient_reduced', 'extinction_coefficient_non_reduced',\n",
       "       'gravy', 'flexibility_mean', 'flexibility_std', 'flexibility_median',\n",
       "       'flexibility_hmean', 'flexibility_gmean', 'flexibility_min',\n",
       "       'flexibility_max', 'flexibility_skew', 'flexibility_kurtosis'],\n",
       "      dtype='object')"
      ]
     },
     "execution_count": 87,
     "metadata": {},
     "output_type": "execute_result"
    }
   ],
   "source": [
    "df.columns"
   ]
  },
  {
   "cell_type": "markdown",
   "metadata": {},
   "source": [
    "# Scikit-learn 사용하기\n",
    "\n"
   ]
  },
  {
   "cell_type": "code",
   "execution_count": 88,
   "metadata": {},
   "outputs": [],
   "source": [
    "df_x = df[['A', 'C', 'D', 'E', 'F',\n",
    "       'G', 'H', 'I', 'K', 'L', 'M', 'N', 'P', 'Q', 'R', 'S', 'T', 'V', 'W',\n",
    "       'Y', 'molecular_weight', 'aromaticity', 'instability_index',\n",
    "       'isoelectric_point', 'structure_fraction_helix',\n",
    "       'structure_fraction_turn', 'structure_fraction_sheet',\n",
    "       'extinction_coefficient_reduced', 'extinction_coefficient_non_reduced',\n",
    "       'gravy', 'flexibility_mean', 'flexibility_std', 'flexibility_median',\n",
    "       'flexibility_hmean', 'flexibility_gmean', 'flexibility_min',\n",
    "       'flexibility_max', 'flexibility_skew', 'flexibility_kurtosis']]"
   ]
  },
  {
   "cell_type": "code",
   "execution_count": 89,
   "metadata": {},
   "outputs": [
    {
     "data": {
      "text/plain": [
       "Index(['A', 'C', 'D', 'E', 'F', 'G', 'H', 'I', 'K', 'L', 'M', 'N', 'P', 'Q',\n",
       "       'R', 'S', 'T', 'V', 'W', 'Y', 'molecular_weight', 'aromaticity',\n",
       "       'instability_index', 'isoelectric_point', 'structure_fraction_helix',\n",
       "       'structure_fraction_turn', 'structure_fraction_sheet',\n",
       "       'extinction_coefficient_reduced', 'extinction_coefficient_non_reduced',\n",
       "       'gravy', 'flexibility_mean', 'flexibility_std', 'flexibility_median',\n",
       "       'flexibility_hmean', 'flexibility_gmean', 'flexibility_min',\n",
       "       'flexibility_max', 'flexibility_skew', 'flexibility_kurtosis'],\n",
       "      dtype='object')"
      ]
     },
     "execution_count": 89,
     "metadata": {},
     "output_type": "execute_result"
    }
   ],
   "source": [
    "df_y = df['Solubility']\n",
    "\n",
    "df_x.columns"
   ]
  },
  {
   "cell_type": "code",
   "execution_count": 90,
   "metadata": {},
   "outputs": [],
   "source": [
    "from sklearn import preprocessing\n",
    "\n",
    "scaler = preprocessing.StandardScaler().fit(df_x)\n",
    "X_scaled = scaler.transform(df_x)"
   ]
  },
  {
   "cell_type": "code",
   "execution_count": 91,
   "metadata": {},
   "outputs": [
    {
     "data": {
      "text/plain": [
       "array([[-1.74895559,  1.43308337, -2.18041238, ..., -4.97185293,\n",
       "         1.89700928,  0.63161454],\n",
       "       [-0.61252994, -0.62151782, -0.68125146, ...,  0.53953424,\n",
       "         0.59197134,  0.69472709],\n",
       "       [-1.05652964,  1.0769615 , -1.10285108, ..., -0.4318123 ,\n",
       "         0.33304322,  0.09848088],\n",
       "       ...,\n",
       "       [-1.66319463,  0.50399013,  3.31753346, ..., -1.19281859,\n",
       "        -1.08901539, -1.27465204],\n",
       "       [-1.13376246, -1.09214441,  0.94503955, ..., -1.7198509 ,\n",
       "        -0.60446065,  0.01910129],\n",
       "       [-0.65646623,  0.72710571, -2.41383412, ..., -3.80434639,\n",
       "         3.06184149,  2.25763245]])"
      ]
     },
     "execution_count": 91,
     "metadata": {},
     "output_type": "execute_result"
    }
   ],
   "source": [
    "X_scaled"
   ]
  },
  {
   "cell_type": "code",
   "execution_count": 95,
   "metadata": {},
   "outputs": [
    {
     "data": {
      "text/plain": [
       "array([[0.10893473, 0.29021559, 0.08955224, ..., 0.09992837, 0.66893631,\n",
       "        0.40650832],\n",
       "       [0.21598918, 0.05408747, 0.25034771, ..., 0.6567574 , 0.54402966,\n",
       "        0.41216513],\n",
       "       [0.17416318, 0.24928775, 0.20512821, ..., 0.55861987, 0.51924736,\n",
       "        0.35872328],\n",
       "       ...,\n",
       "       [0.11701365, 0.18343816, 0.67924528, ..., 0.48173352, 0.38314053,\n",
       "        0.23564869],\n",
       "       [0.16688763, 0.        , 0.42477876, ..., 0.42848615, 0.42951781,\n",
       "        0.35160845],\n",
       "       [0.21185026, 0.20908005, 0.06451613, ..., 0.21788443, 0.78042371,\n",
       "        0.55224912]])"
      ]
     },
     "execution_count": 95,
     "metadata": {},
     "output_type": "execute_result"
    }
   ],
   "source": [
    "from sklearn import preprocessing\n",
    "\n",
    "min_max_scaler = preprocessing.MinMaxScaler()\n",
    "X_train_minmax = min_max_scaler.fit_transform(df_x)\n",
    "X_train_minmax"
   ]
  },
  {
   "cell_type": "code",
   "execution_count": 92,
   "metadata": {},
   "outputs": [],
   "source": [
    "from sklearn.model_selection import train_test_split\n",
    "\n",
    "X_train, X_test, y_train, y_test = train_test_split(\n",
    "    X_scaled, df_y, test_size=0.2, random_state=42)"
   ]
  },
  {
   "cell_type": "code",
   "execution_count": 103,
   "metadata": {},
   "outputs": [],
   "source": [
    "from sklearn.model_selection import train_test_split\n",
    "\n",
    "X_train, X_test, y_train, y_test = train_test_split(\n",
    "    X_train_minmax, df_y, test_size=0.2, random_state=42)"
   ]
  },
  {
   "cell_type": "code",
   "execution_count": 107,
   "metadata": {},
   "outputs": [
    {
     "data": {
      "text/plain": [
       "(2518, 39)"
      ]
     },
     "execution_count": 107,
     "metadata": {},
     "output_type": "execute_result"
    }
   ],
   "source": [
    "X_train.shape"
   ]
  },
  {
   "cell_type": "code",
   "execution_count": 108,
   "metadata": {},
   "outputs": [
    {
     "data": {
      "text/plain": [
       "(630, 39)"
      ]
     },
     "execution_count": 108,
     "metadata": {},
     "output_type": "execute_result"
    }
   ],
   "source": [
    "X_test.shape"
   ]
  },
  {
   "cell_type": "markdown",
   "metadata": {},
   "source": [
    "# 선형 모델\n"
   ]
  },
  {
   "cell_type": "code",
   "execution_count": 109,
   "metadata": {},
   "outputs": [
    {
     "data": {
      "text/plain": [
       "LinearRegression(copy_X=True, fit_intercept=True, n_jobs=-1, normalize=False)"
      ]
     },
     "execution_count": 109,
     "metadata": {},
     "output_type": "execute_result"
    }
   ],
   "source": [
    "from sklearn.linear_model import LinearRegression\n",
    "\n",
    "lin_reg = LinearRegression(n_jobs=-1, normalize=False) # -1 means use all cpu core\n",
    "lin_reg.fit(X_train, y_train)"
   ]
  },
  {
   "cell_type": "code",
   "execution_count": 110,
   "metadata": {},
   "outputs": [
    {
     "name": "stdout",
     "output_type": "stream",
     "text": [
      "27.221883703758497\n"
     ]
    }
   ],
   "source": [
    "import numpy as np\n",
    "from sklearn.metrics import mean_squared_error\n",
    "y_pred = lin_reg.predict(X_test)\n",
    "rms = np.sqrt(mean_squared_error(y_test, y_pred))\n",
    "print(rms)"
   ]
  },
  {
   "cell_type": "code",
   "execution_count": 111,
   "metadata": {},
   "outputs": [
    {
     "data": {
      "text/plain": [
       "count    3148.000000\n",
       "mean       49.002541\n",
       "std        33.398919\n",
       "min         0.000000\n",
       "25%        18.000000\n",
       "50%        43.000000\n",
       "75%        79.000000\n",
       "max       147.000000\n",
       "Name: Solubility, dtype: float64"
      ]
     },
     "execution_count": 111,
     "metadata": {},
     "output_type": "execute_result"
    }
   ],
   "source": [
    "df['Solubility'].describe()"
   ]
  },
  {
   "cell_type": "code",
   "execution_count": 112,
   "metadata": {},
   "outputs": [
    {
     "name": "stdout",
     "output_type": "stream",
     "text": [
      "35.8815456392324\n"
     ]
    }
   ],
   "source": [
    "from sklearn.tree import DecisionTreeRegressor\n",
    "\n",
    "tree_reg = DecisionTreeRegressor()\n",
    "tree_reg.fit(X_train, y_train)\n",
    "\n",
    "y_pred = tree_reg.predict(X_test)\n",
    "rms = np.sqrt(mean_squared_error(y_test, y_pred))\n",
    "print(rms)"
   ]
  },
  {
   "cell_type": "code",
   "execution_count": 113,
   "metadata": {},
   "outputs": [
    {
     "name": "stdout",
     "output_type": "stream",
     "text": [
      "25.962741391944895\n"
     ]
    }
   ],
   "source": [
    "from sklearn.ensemble import RandomForestRegressor\n",
    "forest_reg = RandomForestRegressor(n_estimators = 100, n_jobs = -1)\n",
    "forest_reg.fit(X_train, y_train)\n",
    "\n",
    "y_pred = forest_reg.predict(X_test)\n",
    "rms = np.sqrt(mean_squared_error(y_test, y_pred))\n",
    "print(rms)"
   ]
  },
  {
   "cell_type": "code",
   "execution_count": 116,
   "metadata": {},
   "outputs": [
    {
     "name": "stdout",
     "output_type": "stream",
     "text": [
      "25.764837947265523\n"
     ]
    }
   ],
   "source": [
    "from sklearn.ensemble import ExtraTreesRegressor\n",
    "reg = ExtraTreesRegressor(n_estimators = 100, n_jobs= -1)\n",
    "reg.fit(X_train, y_train)\n",
    "\n",
    "y_pred = reg.predict(X_test)\n",
    "rms = np.sqrt(mean_squared_error(y_test, y_pred))\n",
    "print(rms)"
   ]
  },
  {
   "cell_type": "code",
   "execution_count": 117,
   "metadata": {},
   "outputs": [
    {
     "name": "stdout",
     "output_type": "stream",
     "text": [
      "25.915614526252387\n"
     ]
    }
   ],
   "source": [
    "from sklearn.ensemble import GradientBoostingRegressor\n",
    "reg = GradientBoostingRegressor(n_estimators = 100)\n",
    "reg.fit(X_train, y_train)\n",
    "\n",
    "y_pred = reg.predict(X_test)\n",
    "rms = np.sqrt(mean_squared_error(y_test, y_pred))\n",
    "print(rms)"
   ]
  },
  {
   "cell_type": "code",
   "execution_count": 118,
   "metadata": {},
   "outputs": [
    {
     "name": "stdout",
     "output_type": "stream",
     "text": [
      "27.19409914649555\n"
     ]
    }
   ],
   "source": [
    "from sklearn.svm import SVR\n",
    "\n",
    "svm_reg = SVR(kernel=\"linear\")\n",
    "svm_reg.fit(X_train, y_train)\n",
    "\n",
    "y_pred = svm_reg.predict(X_test)\n",
    "rms = np.sqrt(mean_squared_error(y_test, y_pred))\n",
    "print(rms)"
   ]
  },
  {
   "cell_type": "code",
   "execution_count": 48,
   "metadata": {},
   "outputs": [
    {
     "data": {
      "text/plain": [
       "GridSearchCV(cv=5, error_score='raise-deprecating',\n",
       "             estimator=RandomForestRegressor(bootstrap=True, criterion='mse',\n",
       "                                             max_depth=None,\n",
       "                                             max_features='auto',\n",
       "                                             max_leaf_nodes=None,\n",
       "                                             min_impurity_decrease=0.0,\n",
       "                                             min_impurity_split=None,\n",
       "                                             min_samples_leaf=1,\n",
       "                                             min_samples_split=2,\n",
       "                                             min_weight_fraction_leaf=0.0,\n",
       "                                             n_estimators='warn', n_jobs=-1,\n",
       "                                             oob_score=False, random_state=42,\n",
       "                                             verbose=0, warm_start=False),\n",
       "             iid='warn', n_jobs=None,\n",
       "             param_grid=[{'max_features': [10, 20], 'n_estimators': [10, 100]},\n",
       "                         {'bootstrap': [False], 'max_features': [10, 20],\n",
       "                          'n_estimators': [10, 100]}],\n",
       "             pre_dispatch='2*n_jobs', refit=True, return_train_score=True,\n",
       "             scoring='neg_mean_squared_error', verbose=0)"
      ]
     },
     "execution_count": 48,
     "metadata": {},
     "output_type": "execute_result"
    }
   ],
   "source": [
    "from sklearn.model_selection import GridSearchCV\n",
    "\n",
    "param_grid = [\n",
    "    # try 12 (3×4) combinations of hyperparameters\n",
    "    {'n_estimators': [100, 1000], 'max_features': [10, 20]},\n",
    "    # then try 6 (2×3) combinations with bootstrap set as False\n",
    "    {'bootstrap': [False], 'n_estimators': [10, 100], 'max_features': [10, 20]},\n",
    "  ]\n",
    "\n",
    "forest_reg = RandomForestRegressor(random_state=42, n_jobs=-1)\n",
    "# train across 5 folds, that's a total of (12+6)*5=90 rounds of training \n",
    "grid_search = GridSearchCV(forest_reg, param_grid, cv=5,\n",
    "                           scoring='neg_mean_squared_error', return_train_score=True)\n",
    "grid_search.fit(X_train, y_train)"
   ]
  },
  {
   "cell_type": "code",
   "execution_count": 49,
   "metadata": {},
   "outputs": [
    {
     "name": "stdout",
     "output_type": "stream",
     "text": [
      "26.60160028584878 {'max_features': 10, 'n_estimators': 10}\n",
      "25.143809802641844 {'max_features': 10, 'n_estimators': 100}\n",
      "26.33335990626323 {'max_features': 20, 'n_estimators': 10}\n",
      "25.25714481835577 {'max_features': 20, 'n_estimators': 100}\n",
      "26.85205415021934 {'bootstrap': False, 'max_features': 10, 'n_estimators': 10}\n",
      "25.51601076773746 {'bootstrap': False, 'max_features': 10, 'n_estimators': 100}\n",
      "27.405780813411667 {'bootstrap': False, 'max_features': 20, 'n_estimators': 10}\n",
      "26.36105048491283 {'bootstrap': False, 'max_features': 20, 'n_estimators': 100}\n"
     ]
    }
   ],
   "source": [
    "cvres =  grid_search.cv_results_\n",
    "for mean_score, params in zip(cvres[\"mean_test_score\"], cvres[\"params\"]):\n",
    "    print(np.sqrt(-mean_score), params)"
   ]
  },
  {
   "cell_type": "code",
   "execution_count": 50,
   "metadata": {
    "scrolled": false
   },
   "outputs": [
    {
     "data": {
      "text/html": [
       "<div>\n",
       "<style scoped>\n",
       "    .dataframe tbody tr th:only-of-type {\n",
       "        vertical-align: middle;\n",
       "    }\n",
       "\n",
       "    .dataframe tbody tr th {\n",
       "        vertical-align: top;\n",
       "    }\n",
       "\n",
       "    .dataframe thead th {\n",
       "        text-align: right;\n",
       "    }\n",
       "</style>\n",
       "<table border=\"1\" class=\"dataframe\">\n",
       "  <thead>\n",
       "    <tr style=\"text-align: right;\">\n",
       "      <th></th>\n",
       "      <th>mean_fit_time</th>\n",
       "      <th>std_fit_time</th>\n",
       "      <th>mean_score_time</th>\n",
       "      <th>std_score_time</th>\n",
       "      <th>param_max_features</th>\n",
       "      <th>param_n_estimators</th>\n",
       "      <th>param_bootstrap</th>\n",
       "      <th>params</th>\n",
       "      <th>split0_test_score</th>\n",
       "      <th>split1_test_score</th>\n",
       "      <th>...</th>\n",
       "      <th>mean_test_score</th>\n",
       "      <th>std_test_score</th>\n",
       "      <th>rank_test_score</th>\n",
       "      <th>split0_train_score</th>\n",
       "      <th>split1_train_score</th>\n",
       "      <th>split2_train_score</th>\n",
       "      <th>split3_train_score</th>\n",
       "      <th>split4_train_score</th>\n",
       "      <th>mean_train_score</th>\n",
       "      <th>std_train_score</th>\n",
       "    </tr>\n",
       "  </thead>\n",
       "  <tbody>\n",
       "    <tr>\n",
       "      <th>0</th>\n",
       "      <td>0.283877</td>\n",
       "      <td>0.484273</td>\n",
       "      <td>0.102401</td>\n",
       "      <td>0.000386</td>\n",
       "      <td>10</td>\n",
       "      <td>10</td>\n",
       "      <td>NaN</td>\n",
       "      <td>{'max_features': 10, 'n_estimators': 10}</td>\n",
       "      <td>-692.072488</td>\n",
       "      <td>-681.340012</td>\n",
       "      <td>...</td>\n",
       "      <td>-707.645138</td>\n",
       "      <td>32.135305</td>\n",
       "      <td>6</td>\n",
       "      <td>-136.276516</td>\n",
       "      <td>-139.783633</td>\n",
       "      <td>-123.414549</td>\n",
       "      <td>-134.743279</td>\n",
       "      <td>-135.399500</td>\n",
       "      <td>-133.923495</td>\n",
       "      <td>5.534736</td>\n",
       "    </tr>\n",
       "    <tr>\n",
       "      <th>1</th>\n",
       "      <td>0.412773</td>\n",
       "      <td>0.022766</td>\n",
       "      <td>0.102565</td>\n",
       "      <td>0.000353</td>\n",
       "      <td>10</td>\n",
       "      <td>100</td>\n",
       "      <td>NaN</td>\n",
       "      <td>{'max_features': 10, 'n_estimators': 100}</td>\n",
       "      <td>-623.213298</td>\n",
       "      <td>-596.321352</td>\n",
       "      <td>...</td>\n",
       "      <td>-632.211171</td>\n",
       "      <td>32.737643</td>\n",
       "      <td>1</td>\n",
       "      <td>-97.494441</td>\n",
       "      <td>-99.257809</td>\n",
       "      <td>-93.298591</td>\n",
       "      <td>-94.500439</td>\n",
       "      <td>-94.728799</td>\n",
       "      <td>-95.856016</td>\n",
       "      <td>2.186562</td>\n",
       "    </tr>\n",
       "    <tr>\n",
       "      <th>2</th>\n",
       "      <td>0.069792</td>\n",
       "      <td>0.003900</td>\n",
       "      <td>0.102101</td>\n",
       "      <td>0.000027</td>\n",
       "      <td>20</td>\n",
       "      <td>10</td>\n",
       "      <td>NaN</td>\n",
       "      <td>{'max_features': 20, 'n_estimators': 10}</td>\n",
       "      <td>-685.738843</td>\n",
       "      <td>-675.139049</td>\n",
       "      <td>...</td>\n",
       "      <td>-693.445844</td>\n",
       "      <td>31.529598</td>\n",
       "      <td>4</td>\n",
       "      <td>-130.851812</td>\n",
       "      <td>-132.051128</td>\n",
       "      <td>-125.956514</td>\n",
       "      <td>-130.827424</td>\n",
       "      <td>-131.383739</td>\n",
       "      <td>-130.214123</td>\n",
       "      <td>2.174976</td>\n",
       "    </tr>\n",
       "    <tr>\n",
       "      <th>3</th>\n",
       "      <td>0.536809</td>\n",
       "      <td>0.042075</td>\n",
       "      <td>0.102504</td>\n",
       "      <td>0.000382</td>\n",
       "      <td>20</td>\n",
       "      <td>100</td>\n",
       "      <td>NaN</td>\n",
       "      <td>{'max_features': 20, 'n_estimators': 100}</td>\n",
       "      <td>-642.210634</td>\n",
       "      <td>-603.793852</td>\n",
       "      <td>...</td>\n",
       "      <td>-637.923364</td>\n",
       "      <td>30.444389</td>\n",
       "      <td>2</td>\n",
       "      <td>-98.672711</td>\n",
       "      <td>-99.613204</td>\n",
       "      <td>-94.445228</td>\n",
       "      <td>-94.111628</td>\n",
       "      <td>-95.786158</td>\n",
       "      <td>-96.525786</td>\n",
       "      <td>2.229142</td>\n",
       "    </tr>\n",
       "    <tr>\n",
       "      <th>4</th>\n",
       "      <td>0.064176</td>\n",
       "      <td>0.004144</td>\n",
       "      <td>0.102186</td>\n",
       "      <td>0.000109</td>\n",
       "      <td>10</td>\n",
       "      <td>10</td>\n",
       "      <td>False</td>\n",
       "      <td>{'bootstrap': False, 'max_features': 10, 'n_es...</td>\n",
       "      <td>-710.785039</td>\n",
       "      <td>-706.236431</td>\n",
       "      <td>...</td>\n",
       "      <td>-721.032812</td>\n",
       "      <td>18.320616</td>\n",
       "      <td>7</td>\n",
       "      <td>-12.049735</td>\n",
       "      <td>-10.958623</td>\n",
       "      <td>-9.846657</td>\n",
       "      <td>-7.813400</td>\n",
       "      <td>-9.166749</td>\n",
       "      <td>-9.967033</td>\n",
       "      <td>1.456982</td>\n",
       "    </tr>\n",
       "  </tbody>\n",
       "</table>\n",
       "<p>5 rows × 23 columns</p>\n",
       "</div>"
      ],
      "text/plain": [
       "   mean_fit_time  std_fit_time  mean_score_time  std_score_time  \\\n",
       "0       0.283877      0.484273         0.102401        0.000386   \n",
       "1       0.412773      0.022766         0.102565        0.000353   \n",
       "2       0.069792      0.003900         0.102101        0.000027   \n",
       "3       0.536809      0.042075         0.102504        0.000382   \n",
       "4       0.064176      0.004144         0.102186        0.000109   \n",
       "\n",
       "  param_max_features param_n_estimators param_bootstrap  \\\n",
       "0                 10                 10             NaN   \n",
       "1                 10                100             NaN   \n",
       "2                 20                 10             NaN   \n",
       "3                 20                100             NaN   \n",
       "4                 10                 10           False   \n",
       "\n",
       "                                              params  split0_test_score  \\\n",
       "0           {'max_features': 10, 'n_estimators': 10}        -692.072488   \n",
       "1          {'max_features': 10, 'n_estimators': 100}        -623.213298   \n",
       "2           {'max_features': 20, 'n_estimators': 10}        -685.738843   \n",
       "3          {'max_features': 20, 'n_estimators': 100}        -642.210634   \n",
       "4  {'bootstrap': False, 'max_features': 10, 'n_es...        -710.785039   \n",
       "\n",
       "   split1_test_score  ...  mean_test_score  std_test_score  rank_test_score  \\\n",
       "0        -681.340012  ...      -707.645138       32.135305                6   \n",
       "1        -596.321352  ...      -632.211171       32.737643                1   \n",
       "2        -675.139049  ...      -693.445844       31.529598                4   \n",
       "3        -603.793852  ...      -637.923364       30.444389                2   \n",
       "4        -706.236431  ...      -721.032812       18.320616                7   \n",
       "\n",
       "   split0_train_score  split1_train_score  split2_train_score  \\\n",
       "0         -136.276516         -139.783633         -123.414549   \n",
       "1          -97.494441          -99.257809          -93.298591   \n",
       "2         -130.851812         -132.051128         -125.956514   \n",
       "3          -98.672711          -99.613204          -94.445228   \n",
       "4          -12.049735          -10.958623           -9.846657   \n",
       "\n",
       "   split3_train_score  split4_train_score  mean_train_score  std_train_score  \n",
       "0         -134.743279         -135.399500       -133.923495         5.534736  \n",
       "1          -94.500439          -94.728799        -95.856016         2.186562  \n",
       "2         -130.827424         -131.383739       -130.214123         2.174976  \n",
       "3          -94.111628          -95.786158        -96.525786         2.229142  \n",
       "4           -7.813400           -9.166749         -9.967033         1.456982  \n",
       "\n",
       "[5 rows x 23 columns]"
      ]
     },
     "execution_count": 50,
     "metadata": {},
     "output_type": "execute_result"
    }
   ],
   "source": [
    "cv = pd.DataFrame(grid_search.cv_results_)\n",
    "cv.head()"
   ]
  },
  {
   "cell_type": "code",
   "execution_count": 51,
   "metadata": {},
   "outputs": [
    {
     "data": {
      "text/plain": [
       "<BarContainer object of 31 artists>"
      ]
     },
     "execution_count": 51,
     "metadata": {},
     "output_type": "execute_result"
    },
    {
     "data": {
      "image/png": "[encoded data removed]",
      "text/plain": [
       "<Figure size 432x288 with 1 Axes>"
      ]
     },
     "metadata": {
      "needs_background": "light"
     },
     "output_type": "display_data"
    }
   ],
   "source": [
    "import matplotlib.pyplot as plt\n",
    "%matplotlib inline\n",
    "\n",
    "feature_importances = grid_search.best_estimator_.feature_importances_\n",
    "plt.bar(range(len(feature_importances)), feature_importances)"
   ]
  },
  {
   "cell_type": "code",
   "execution_count": 59,
   "metadata": {},
   "outputs": [
    {
     "name": "stdout",
     "output_type": "stream",
     "text": [
      "(0.016996011463565386, 'A')\n",
      "(0.01612824870215752, 'C')\n",
      "(0.039895501859315494, 'D')\n",
      "(0.05155508201643744, 'E')\n",
      "(0.02092324236561213, 'F')\n",
      "(0.016578803058401308, 'G')\n",
      "(0.020871524921199612, 'H')\n",
      "(0.01627195673397594, 'I')\n",
      "(0.03679238692314114, 'K')\n",
      "(0.022077420101904967, 'L')\n",
      "(0.01924991356921795, 'M')\n",
      "(0.017960552559967088, 'N')\n",
      "(0.01797330505427779, 'P')\n",
      "(0.018077407146622964, 'Q')\n",
      "(0.02690295567681381, 'R')\n",
      "(0.022985794797304355, 'S')\n",
      "(0.01719293706153637, 'T')\n",
      "(0.019305284330892413, 'V')\n",
      "(0.01823648774999414, 'W')\n",
      "(0.019326071516845015, 'Y')\n",
      "(0.08913827995718622, 'molecular_weight')\n",
      "(0.021317695249378578, 'aromaticity')\n",
      "(0.018315429458018707, 'instability_index')\n",
      "(0.08360136443045109, 'isoelectric_point')\n",
      "(0.024233880472055665, 'structure_fraction_helix')\n",
      "(0.0187929470065582, 'structure_fraction_turn')\n",
      "(0.016121458889289245, 'structure_fraction_sheet')\n",
      "(0.07326028805678338, 'extinction_coefficient_reduced')\n",
      "(0.07912683916038084, 'extinction_coefficient_non_reduced')\n",
      "(0.0270231009100266, 'gravy')\n",
      "(0.09376782880068876, 'flexibility')\n"
     ]
    }
   ],
   "source": [
    "for i in zip(feature_importances, df_x.columns):\n",
    "    print(i)"
   ]
  },
  {
   "cell_type": "code",
   "execution_count": 122,
   "metadata": {
    "scrolled": false
   },
   "outputs": [
    {
     "data": {
      "text/plain": [
       "RandomizedSearchCV(cv=5, error_score='raise-deprecating',\n",
       "                   estimator=RandomForestRegressor(bootstrap=True,\n",
       "                                                   criterion='mse',\n",
       "                                                   max_depth=None,\n",
       "                                                   max_features='auto',\n",
       "                                                   max_leaf_nodes=None,\n",
       "                                                   min_impurity_decrease=0.0,\n",
       "                                                   min_impurity_split=None,\n",
       "                                                   min_samples_leaf=1,\n",
       "                                                   min_samples_split=2,\n",
       "                                                   min_weight_fraction_leaf=0.0,\n",
       "                                                   n_estimators='warn',\n",
       "                                                   n_jobs=-1, oob_score=False,\n",
       "                                                   random_state...\n",
       "                                        'max_features': <scipy.stats._distn_infrastructure.rv_frozen object at 0x7fe2d052ae10>,\n",
       "                                        'min_samples_leaf': <scipy.stats._distn_infrastructure.rv_frozen object at 0x7fe2d052a080>,\n",
       "                                        'n_estimators': <scipy.stats._distn_infrastructure.rv_frozen object at 0x7fe2d257efd0>},\n",
       "                   pre_dispatch='2*n_jobs', random_state=42, refit=True,\n",
       "                   return_train_score=False, scoring='neg_mean_squared_error',\n",
       "                   verbose=0)"
      ]
     },
     "execution_count": 122,
     "metadata": {},
     "output_type": "execute_result"
    }
   ],
   "source": [
    "from sklearn.model_selection import RandomizedSearchCV\n",
    "from scipy.stats import randint\n",
    "\n",
    "param_distribs = {\n",
    "        'n_estimators': randint(low=1, high=100),\n",
    "        'max_features': randint(low=1, high=100),\n",
    "        'max_depth': randint(low=1, high=100),\n",
    "        'max_features': randint(low=1, high=39),\n",
    "        'min_samples_leaf': randint(low=1, high=10)\n",
    "    }\n",
    "\n",
    "forest_reg = RandomForestRegressor(random_state=42, n_jobs=-1)\n",
    "rnd_search = RandomizedSearchCV(forest_reg, param_distributions=param_distribs,\n",
    "                                n_iter=10, cv=5, scoring='neg_mean_squared_error', random_state=42)\n",
    "rnd_search.fit(X_train, y_train)"
   ]
  },
  {
   "cell_type": "code",
   "execution_count": 123,
   "metadata": {},
   "outputs": [
    {
     "name": "stdout",
     "output_type": "stream",
     "text": [
      "25.132019813658964 {'max_depth': 52, 'max_features': 29, 'min_samples_leaf': 8, 'n_estimators': 61}\n",
      "25.04243294775018 {'max_depth': 21, 'max_features': 19, 'min_samples_leaf': 7, 'n_estimators': 75}\n",
      "25.242105114260756 {'max_depth': 75, 'max_features': 24, 'min_samples_leaf': 5, 'n_estimators': 24}\n",
      "27.499104444823185 {'max_depth': 3, 'max_features': 22, 'min_samples_leaf': 5, 'n_estimators': 2}\n",
      "28.930296543236214 {'max_depth': 88, 'max_features': 30, 'min_samples_leaf': 6, 'n_estimators': 2}\n",
      "25.151884808420405 {'max_depth': 64, 'max_features': 21, 'min_samples_leaf': 1, 'n_estimators': 76}\n",
      "25.153623611271346 {'max_depth': 58, 'max_features': 22, 'min_samples_leaf': 9, 'n_estimators': 49}\n",
      "25.067626415019134 {'max_depth': 91, 'max_features': 28, 'min_samples_leaf': 3, 'n_estimators': 55}\n",
      "25.56272183919906 {'max_depth': 64, 'max_features': 3, 'min_samples_leaf': 5, 'n_estimators': 51}\n",
      "25.134747938817284 {'max_depth': 7, 'max_features': 21, 'min_samples_leaf': 9, 'n_estimators': 39}\n"
     ]
    }
   ],
   "source": [
    "cvres = rnd_search.cv_results_\n",
    "for mean_score, params in zip(cvres[\"mean_test_score\"], cvres[\"params\"]):\n",
    "    print(np.sqrt(-mean_score), params)"
   ]
  },
  {
   "cell_type": "code",
   "execution_count": 128,
   "metadata": {},
   "outputs": [
    {
     "name": "stdout",
     "output_type": "stream",
     "text": [
      "(0.008268807192205472, 'A')\n",
      "(0.009121179135387588, 'C')\n",
      "(0.025842474208111855, 'D')\n",
      "(0.03201969945555127, 'E')\n",
      "(0.01115679646402028, 'F')\n",
      "(0.010411647345547103, 'G')\n",
      "(0.010530331938147697, 'H')\n",
      "(0.009449151821916048, 'I')\n",
      "(0.020364598150197876, 'K')\n",
      "(0.01319005556336226, 'L')\n",
      "(0.012554205832983844, 'M')\n",
      "(0.013276504099917302, 'N')\n",
      "(0.010188971524718685, 'P')\n",
      "(0.00961681912814317, 'Q')\n",
      "(0.0191921611105329, 'R')\n",
      "(0.020844025014526656, 'S')\n",
      "(0.008711350563588785, 'T')\n",
      "(0.013236315520852358, 'V')\n",
      "(0.010335525065238445, 'W')\n",
      "(0.013296766030450848, 'Y')\n",
      "(0.10747049424147709, 'molecular_weight')\n",
      "(0.011685515921187526, 'aromaticity')\n",
      "(0.011443283914748493, 'instability_index')\n",
      "(0.09528712005672968, 'isoelectric_point')\n",
      "(0.0084364546208556, 'structure_fraction_helix')\n",
      "(0.015068469114289067, 'structure_fraction_turn')\n",
      "(0.011159101098754088, 'structure_fraction_sheet')\n",
      "(0.06929083375275501, 'extinction_coefficient_reduced')\n",
      "(0.12173447886101146, 'extinction_coefficient_non_reduced')\n",
      "(0.011148436019918894, 'gravy')\n",
      "(0.05326559514356806, 'flexibility_mean')\n",
      "(0.012110653985624532, 'flexibility_std')\n",
      "(0.036568108477312844, 'flexibility_median')\n",
      "(0.05148674171704457, 'flexibility_hmean')\n",
      "(0.053977788408630926, 'flexibility_gmean')\n",
      "(0.018623041536132177, 'flexibility_min')\n",
      "(0.00818986011027612, 'flexibility_max')\n",
      "(0.010608129957770095, 'flexibility_skew')\n",
      "(0.010838507896513323, 'flexibility_kurtosis')\n"
     ]
    }
   ],
   "source": [
    "feature_importances = rnd_search.best_estimator_.feature_importances_\n",
    "for i in zip(feature_importances, df_x.columns):\n",
    "    print(i)"
   ]
  },
  {
   "cell_type": "markdown",
   "metadata": {},
   "source": [
    "- n_estimators = number of trees in the foreset\n",
    "- max_features = max number of features considered for splitting a node\n",
    "- max_depth = max number of levels in each decision tree\n",
    "- min_samples_split = min number of data points placed in a node before the node is split\n",
    "- min_samples_leaf = min number of data points allowed in a leaf node\n",
    "- bootstrap = method for sampling data points (with or without replacement)"
   ]
  },
  {
   "cell_type": "code",
   "execution_count": 125,
   "metadata": {},
   "outputs": [
    {
     "name": "stdout",
     "output_type": "stream",
     "text": [
      "{'bootstrap': [True, False],\n",
      " 'max_depth': [10, 20, 30, 40, 50, 60, 70, 80, 90, 100, 110, None],\n",
      " 'max_features': ['auto', 'sqrt'],\n",
      " 'min_samples_leaf': [1, 2, 4],\n",
      " 'min_samples_split': [2, 5, 10],\n",
      " 'n_estimators': [200, 400, 600, 800, 1000, 1200, 1400, 1600, 1800, 2000]}\n"
     ]
    }
   ],
   "source": [
    "from sklearn.model_selection import RandomizedSearchCV# Number of trees in random forest\n",
    "n_estimators = [int(x) for x in np.linspace(start = 200, stop = 2000, num = 10)]\n",
    "# Number of features to consider at every split\n",
    "max_features = ['auto', 'sqrt']\n",
    "# Maximum number of levels in tree\n",
    "max_depth = [int(x) for x in np.linspace(10, 110, num = 11)]\n",
    "max_depth.append(None)\n",
    "# Minimum number of samples required to split a node\n",
    "min_samples_split = [2, 5, 10]\n",
    "# Minimum number of samples required at each leaf node\n",
    "min_samples_leaf = [1, 2, 4]\n",
    "# Method of selecting samples for training each tree\n",
    "bootstrap = [True, False]# Create the random grid\n",
    "random_grid = {'n_estimators': n_estimators,\n",
    "               'max_features': max_features,\n",
    "               'max_depth': max_depth,\n",
    "               'min_samples_split': min_samples_split,\n",
    "               'min_samples_leaf': min_samples_leaf,\n",
    "               'bootstrap': bootstrap}\n",
    "\n",
    "from pprint import pprint\n",
    "\n",
    "pprint(random_grid)\n"
   ]
  },
  {
   "cell_type": "code",
   "execution_count": null,
   "metadata": {},
   "outputs": [],
   "source": [
    "# Use the random grid to search for best hyperparameters\n",
    "# First create the base model to tune\n",
    "rf = RandomForestRegressor()\n",
    "# Random search of parameters, using 3 fold cross validation, \n",
    "# search across 100 different combinations, and use all available cores\n",
    "# Fit the random search model\n",
    "rf_random = RandomizedSearchCV(estimator = rf,\n",
    "                               param_distributions = random_grid, n_iter = 100,\n",
    "                               cv = 3, verbose=2, random_state=42, n_jobs = -1)\n",
    "rf_random.fit(train_features, train_labels)"
   ]
  },
  {
   "cell_type": "code",
   "execution_count": null,
   "metadata": {},
   "outputs": [],
   "source": [
    "def evaluate(model, test_features, test_labels):\n",
    "    predictions = model.predict(test_features)\n",
    "    errors = abs(predictions - test_labels)\n",
    "    mape = 100 * np.mean(errors / test_labels)\n",
    "    accuracy = 100 - mape\n",
    "    print('Model Performance')\n",
    "    print('Average Error: {:0.4f} degrees.'.format(np.mean(errors)))\n",
    "    print('Accuracy = {:0.2f}%.'.format(accuracy))\n",
    "    \n",
    "    return accuracybase_model = RandomForestRegressor(n_estimators = 10, random_state = 42)\n",
    "\n",
    "base_model.fit(train_features, train_labels)\n",
    "base_accuracy = evaluate(base_model, test_features, test_labels)"
   ]
  },
  {
   "cell_type": "code",
   "execution_count": null,
   "metadata": {},
   "outputs": [],
   "source": [
    "best_random = rf_random.best_estimator_\n",
    "random_accuracy = evaluate(best_random, test_features, test_labels)"
   ]
  },
  {
   "cell_type": "code",
   "execution_count": null,
   "metadata": {},
   "outputs": [],
   "source": [
    "print('Improvement of {:0.2f}%.'.format( 100 * (random_accuracy - base_accuracy) / base_accuracy))"
   ]
  }
 ],
 "metadata": {
  "kernelspec": {
   "display_name": "Python 3",
   "language": "python",
   "name": "python3"
  },
  "language_info": {
   "codemirror_mode": {
    "name": "ipython",
    "version": 3
   },
   "file_extension": ".py",
   "mimetype": "text/x-python",
   "name": "python",
   "nbconvert_exporter": "python",
   "pygments_lexer": "ipython3",
   "version": "3.6.7"
  }
 },
 "nbformat": 4,
 "nbformat_minor": 2
}
