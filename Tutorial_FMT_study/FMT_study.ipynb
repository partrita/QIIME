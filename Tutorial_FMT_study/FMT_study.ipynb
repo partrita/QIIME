{
 "cells": [
  {
   "cell_type": "markdown",
   "metadata": {},
   "source": [
    "출처: https://docs.qiime2.org/2019.7/tutorials/fmt/\n",
    "\n",
    "# Fecal microbiota transplant (FMT) study: an exercise\n",
    "\n",
    "This document is intended to be run after the moving pictures tutorial. It is designed to introduce a few new ideas, and to be an exercise in applying the tools that were explored in that document.\n",
    "\n",
    "The data used in this tutorial is derived from a Fecal Microbiome Transplant study\n",
    "\n",
    "This tutorial dataset is a subsample of the data generated for this study.\n",
    "\n",
    "These data were sequenced on two Illumina MiSeq sequencing runs.\n",
    "\n",
    "# Obtain data files\n",
    "\n"
   ]
  },
  {
   "cell_type": "code",
   "execution_count": 1,
   "metadata": {},
   "outputs": [
    {
     "name": "stdout",
     "output_type": "stream",
     "text": [
      "--2019-09-05 10:35:29--  https://data.qiime2.org/2019.7/tutorials/fmt/sample_metadata.tsv\n",
      "Resolving data.qiime2.org (data.qiime2.org)... 52.35.38.247\n",
      "Connecting to data.qiime2.org (data.qiime2.org)|52.35.38.247|:443... connected.\n",
      "HTTP request sent, awaiting response... 302 FOUND\n",
      "Location: https://docs.google.com/spreadsheets/d/1D3-Z20qK_jJoONXqHbVYffI5kyf6YinQ1F0f-2dnDbU/export?gid=0&format=tsv [following]\n",
      "--2019-09-05 10:35:30--  https://docs.google.com/spreadsheets/d/1D3-Z20qK_jJoONXqHbVYffI5kyf6YinQ1F0f-2dnDbU/export?gid=0&format=tsv\n",
      "Resolving docs.google.com (docs.google.com)... 216.58.220.206, 2404:6800:4005:80d::200e\n",
      "Connecting to docs.google.com (docs.google.com)|216.58.220.206|:443... connected.\n",
      "HTTP request sent, awaiting response... 200 OK\n",
      "Length: unspecified [text/tab-separated-values]\n",
      "Saving to: `sample-metadata.tsv'\n",
      "\n",
      "    [ <=>                                   ] 11,526      --.-K/s   in 0.01s   \n",
      "\n",
      "2019-09-05 10:35:31 (1.08 MB/s) - `sample-metadata.tsv' saved [11526]\n",
      "\n"
     ]
    }
   ],
   "source": [
    "!wget \\\n",
    "  -O \"sample-metadata.tsv\" \\\n",
    "  \"https://data.qiime2.org/2019.7/tutorials/fmt/sample_metadata.tsv\""
   ]
  },
  {
   "cell_type": "markdown",
   "metadata": {},
   "source": [
    "Next, download the demultiplexed sequences that we’ll use in this analysis.\n",
    "\n",
    "In this tutorial we’ll work with a small subsample of the complete sequence data so that the commands will run quickly."
   ]
  },
  {
   "cell_type": "code",
   "execution_count": 2,
   "metadata": {},
   "outputs": [
    {
     "name": "stdout",
     "output_type": "stream",
     "text": [
      "--2019-09-05 10:35:57--  https://data.qiime2.org/2019.7/tutorials/fmt/fmt-tutorial-demux-1-1p.qza\n",
      "Resolving data.qiime2.org (data.qiime2.org)... 52.35.38.247\n",
      "Connecting to data.qiime2.org (data.qiime2.org)|52.35.38.247|:443... connected.\n",
      "HTTP request sent, awaiting response... 302 FOUND\n",
      "Location: https://s3-us-west-2.amazonaws.com/qiime2-data/2019.7/tutorials/fmt/fmt-tutorial-demux-1-1p.qza [following]\n",
      "--2019-09-05 10:35:58--  https://s3-us-west-2.amazonaws.com/qiime2-data/2019.7/tutorials/fmt/fmt-tutorial-demux-1-1p.qza\n",
      "Resolving s3-us-west-2.amazonaws.com (s3-us-west-2.amazonaws.com)... 54.231.168.160\n",
      "Connecting to s3-us-west-2.amazonaws.com (s3-us-west-2.amazonaws.com)|54.231.168.160|:443... connected.\n",
      "HTTP request sent, awaiting response... 200 OK\n",
      "Length: 2165499 (2.1M) [binary/octet-stream]\n",
      "Saving to: `fmt-tutorial-demux-1.qza'\n",
      "\n",
      "100%[======================================>] 2,165,499   1.59M/s   in 1.3s    \n",
      "\n",
      "2019-09-05 10:36:00 (1.59 MB/s) - `fmt-tutorial-demux-1.qza' saved [2165499/2165499]\n",
      "\n"
     ]
    }
   ],
   "source": [
    "!wget \\\n",
    "  -O \"fmt-tutorial-demux-1.qza\" \\\n",
    "  \"https://data.qiime2.org/2019.7/tutorials/fmt/fmt-tutorial-demux-1-1p.qza\""
   ]
  },
  {
   "cell_type": "code",
   "execution_count": 3,
   "metadata": {},
   "outputs": [
    {
     "name": "stdout",
     "output_type": "stream",
     "text": [
      "--2019-09-05 10:36:09--  https://data.qiime2.org/2019.7/tutorials/fmt/fmt-tutorial-demux-2-1p.qza\n",
      "Resolving data.qiime2.org (data.qiime2.org)... 52.35.38.247\n",
      "Connecting to data.qiime2.org (data.qiime2.org)|52.35.38.247|:443... connected.\n",
      "HTTP request sent, awaiting response... 302 FOUND\n",
      "Location: https://s3-us-west-2.amazonaws.com/qiime2-data/2019.7/tutorials/fmt/fmt-tutorial-demux-2-1p.qza [following]\n",
      "--2019-09-05 10:36:10--  https://s3-us-west-2.amazonaws.com/qiime2-data/2019.7/tutorials/fmt/fmt-tutorial-demux-2-1p.qza\n",
      "Resolving s3-us-west-2.amazonaws.com (s3-us-west-2.amazonaws.com)... 52.218.237.64\n",
      "Connecting to s3-us-west-2.amazonaws.com (s3-us-west-2.amazonaws.com)|52.218.237.64|:443... connected.\n",
      "HTTP request sent, awaiting response... 200 OK\n",
      "Length: 935392 (913K) [binary/octet-stream]\n",
      "Saving to: `fmt-tutorial-demux-2.qza'\n",
      "\n",
      "100%[======================================>] 935,392     1.13M/s   in 0.8s    \n",
      "\n",
      "2019-09-05 10:36:11 (1.13 MB/s) - `fmt-tutorial-demux-2.qza' saved [935392/935392]\n",
      "\n"
     ]
    }
   ],
   "source": [
    "!wget \\\n",
    "  -O \"fmt-tutorial-demux-2.qza\" \\\n",
    "  \"https://data.qiime2.org/2019.7/tutorials/fmt/fmt-tutorial-demux-2-1p.qza\""
   ]
  },
  {
   "cell_type": "markdown",
   "metadata": {},
   "source": [
    "# Sequence quality control\n",
    "\n",
    "We’ll begin by performing quality control on the demultiplexed sequences using DADA2, but this time we’ll run the denoise-single command on each set of demultiplexed sequences individually."
   ]
  },
  {
   "cell_type": "code",
   "execution_count": 4,
   "metadata": {},
   "outputs": [
    {
     "name": "stdout",
     "output_type": "stream",
     "text": [
      "\u001b[32mSaved Visualization to: demux-summary-2.qzv\u001b[0m\r\n"
     ]
    }
   ],
   "source": [
    "!qiime demux summarize \\\n",
    "  --i-data fmt-tutorial-demux-2.qza \\\n",
    "  --o-visualization demux-summary-2.qzv"
   ]
  },
  {
   "cell_type": "code",
   "execution_count": 5,
   "metadata": {},
   "outputs": [
    {
     "data": {
      "text/html": [
       "<div><img onload=\"(function(div, url){\n",
       "if (typeof require !== 'undefined') {\n",
       "    var baseURL = require.toUrl('').split('/').slice(0, -2).join('/');\n",
       "} else {\n",
       "    var baseURL = JSON.parse(\n",
       "        document.getElementById('jupyter-config-data').innerHTML\n",
       "    ).baseUrl.slice(0, -1);\n",
       "}\n",
       "url = baseURL + url;\n",
       "fetch(url).then(function(res) {\n",
       "    if (res.status === 404) {\n",
       "        div.innerHTML = 'Install QIIME 2 Jupyter extension with:<br />' +\n",
       "                        '<code>jupyter serverextension enable --py qiime2' +\n",
       "                        ' --sys-prefix</code><br />then restart your server.' +\n",
       "                        '<br /><br />(Interactive output not available on ' +\n",
       "                        'static notebook viewer services like nbviewer.)';\n",
       "    } else if (res.status === 409) {\n",
       "        div.innerHTML = 'Visualization no longer in scope. Re-run this cell' +\n",
       "                        ' to see the visualization.';\n",
       "    } else if (res.ok) {\n",
       "        url = res.url;\n",
       "        div.innerHTML = '<iframe src=\\'' + url + '\\' style=\\'' +\n",
       "                        'width: 100%; height: 700px; border: 0;\\'>' +\n",
       "                        '</iframe><hr />Open in a: <a href=\\'' + url + '\\'' +\n",
       "                        ' target=\\'_blank\\'>new window</a>'\n",
       "    } else {\n",
       "        div.innerHTML = 'Something has gone wrong. Check notebook server for' +\n",
       "                        ' errors.';\n",
       "    }\n",
       "});\n",
       "})(this.parentElement, '/qiime2/redirect?location=/tmp/qiime2-archive-3pqdb4f3')\" src=\"data:image/gif;base64,R0lGODlhAQABAIAAAP///wAAACH5BAEAAAAALAAAAAABAAEAAAICRAEAOw==\" /></div>"
      ],
      "text/plain": [
       "<visualization: Visualization uuid: 0936081a-b5a4-484a-9285-efccaeea585b>"
      ]
     },
     "execution_count": 5,
     "metadata": {},
     "output_type": "execute_result"
    }
   ],
   "source": [
    "from qiime2 import Visualization\n",
    "Visualization.load('demux-summary-2.qzv')"
   ]
  },
  {
   "cell_type": "markdown",
   "metadata": {},
   "source": [
    "Here the quality seems relatively low in the first few bases, and then seems to stay relatively high through the end of the reads. We’ll therefore trim the first 13 bases from each sequence and truncate the sequences at 150 bases."
   ]
  },
  {
   "cell_type": "code",
   "execution_count": 6,
   "metadata": {},
   "outputs": [
    {
     "name": "stdout",
     "output_type": "stream",
     "text": [
      "\u001b[32mSaved FeatureTable[Frequency] to: table-2.qza\u001b[0m\r\n",
      "\u001b[32mSaved FeatureData[Sequence] to: rep-seqs-2.qza\u001b[0m\r\n",
      "\u001b[32mSaved SampleData[DADA2Stats] to: stats-2.qza\u001b[0m\r\n"
     ]
    }
   ],
   "source": [
    "!qiime dada2 denoise-single \\\n",
    "  --p-trim-left 13 \\\n",
    "  --p-trunc-len 150 \\\n",
    "  --i-demultiplexed-seqs fmt-tutorial-demux-2.qza \\\n",
    "  --o-representative-sequences rep-seqs-2.qza \\\n",
    "  --o-table table-2.qza \\\n",
    "  --o-denoising-stats stats-2.qza"
   ]
  },
  {
   "cell_type": "markdown",
   "metadata": {},
   "source": [
    "# Viewing denoising stats\n",
    "\n",
    "The denoise-single commands return basic statistics about the denoising process, and can be visualized with the following:"
   ]
  },
  {
   "cell_type": "code",
   "execution_count": 7,
   "metadata": {},
   "outputs": [
    {
     "name": "stdout",
     "output_type": "stream",
     "text": [
      "\u001b[32mSaved Visualization to: denoising-stats-2.qzv\u001b[0m\r\n"
     ]
    }
   ],
   "source": [
    "!qiime metadata tabulate \\\n",
    "  --m-input-file stats-2.qza \\\n",
    "  --o-visualization denoising-stats-2.qzv"
   ]
  },
  {
   "cell_type": "code",
   "execution_count": 8,
   "metadata": {},
   "outputs": [
    {
     "data": {
      "text/html": [
       "<div><img onload=\"(function(div, url){\n",
       "if (typeof require !== 'undefined') {\n",
       "    var baseURL = require.toUrl('').split('/').slice(0, -2).join('/');\n",
       "} else {\n",
       "    var baseURL = JSON.parse(\n",
       "        document.getElementById('jupyter-config-data').innerHTML\n",
       "    ).baseUrl.slice(0, -1);\n",
       "}\n",
       "url = baseURL + url;\n",
       "fetch(url).then(function(res) {\n",
       "    if (res.status === 404) {\n",
       "        div.innerHTML = 'Install QIIME 2 Jupyter extension with:<br />' +\n",
       "                        '<code>jupyter serverextension enable --py qiime2' +\n",
       "                        ' --sys-prefix</code><br />then restart your server.' +\n",
       "                        '<br /><br />(Interactive output not available on ' +\n",
       "                        'static notebook viewer services like nbviewer.)';\n",
       "    } else if (res.status === 409) {\n",
       "        div.innerHTML = 'Visualization no longer in scope. Re-run this cell' +\n",
       "                        ' to see the visualization.';\n",
       "    } else if (res.ok) {\n",
       "        url = res.url;\n",
       "        div.innerHTML = '<iframe src=\\'' + url + '\\' style=\\'' +\n",
       "                        'width: 100%; height: 700px; border: 0;\\'>' +\n",
       "                        '</iframe><hr />Open in a: <a href=\\'' + url + '\\'' +\n",
       "                        ' target=\\'_blank\\'>new window</a>'\n",
       "    } else {\n",
       "        div.innerHTML = 'Something has gone wrong. Check notebook server for' +\n",
       "                        ' errors.';\n",
       "    }\n",
       "});\n",
       "})(this.parentElement, '/qiime2/redirect?location=/tmp/qiime2-archive-ritybj5j')\" src=\"data:image/gif;base64,R0lGODlhAQABAIAAAP///wAAACH5BAEAAAAALAAAAAABAAEAAAICRAEAOw==\" /></div>"
      ],
      "text/plain": [
       "<visualization: Visualization uuid: 7fd9f6c2-680e-40cd-b175-cbb536592328>"
      ]
     },
     "execution_count": 8,
     "metadata": {},
     "output_type": "execute_result"
    }
   ],
   "source": [
    "Visualization.load('denoising-stats-2.qzv')"
   ]
  },
  {
   "cell_type": "markdown",
   "metadata": {},
   "source": [
    "# Merging denoised data\n",
    "\n",
    "The denoise-single command is the last step in this analysis that needs to be run on a per sequencing run basis."
   ]
  },
  {
   "cell_type": "code",
   "execution_count": 10,
   "metadata": {},
   "outputs": [
    {
     "name": "stdout",
     "output_type": "stream",
     "text": [
      "\u001b[32mSaved Visualization to: table.qzv\u001b[0m\r\n"
     ]
    }
   ],
   "source": [
    "!qiime feature-table summarize \\\n",
    "  --i-table table-2.qza \\\n",
    "  --o-visualization table.qzv \\\n",
    "  --m-sample-metadata-file sample-metadata.tsv"
   ]
  },
  {
   "cell_type": "code",
   "execution_count": 11,
   "metadata": {},
   "outputs": [
    {
     "data": {
      "text/html": [
       "<div><img onload=\"(function(div, url){\n",
       "if (typeof require !== 'undefined') {\n",
       "    var baseURL = require.toUrl('').split('/').slice(0, -2).join('/');\n",
       "} else {\n",
       "    var baseURL = JSON.parse(\n",
       "        document.getElementById('jupyter-config-data').innerHTML\n",
       "    ).baseUrl.slice(0, -1);\n",
       "}\n",
       "url = baseURL + url;\n",
       "fetch(url).then(function(res) {\n",
       "    if (res.status === 404) {\n",
       "        div.innerHTML = 'Install QIIME 2 Jupyter extension with:<br />' +\n",
       "                        '<code>jupyter serverextension enable --py qiime2' +\n",
       "                        ' --sys-prefix</code><br />then restart your server.' +\n",
       "                        '<br /><br />(Interactive output not available on ' +\n",
       "                        'static notebook viewer services like nbviewer.)';\n",
       "    } else if (res.status === 409) {\n",
       "        div.innerHTML = 'Visualization no longer in scope. Re-run this cell' +\n",
       "                        ' to see the visualization.';\n",
       "    } else if (res.ok) {\n",
       "        url = res.url;\n",
       "        div.innerHTML = '<iframe src=\\'' + url + '\\' style=\\'' +\n",
       "                        'width: 100%; height: 700px; border: 0;\\'>' +\n",
       "                        '</iframe><hr />Open in a: <a href=\\'' + url + '\\'' +\n",
       "                        ' target=\\'_blank\\'>new window</a>'\n",
       "    } else {\n",
       "        div.innerHTML = 'Something has gone wrong. Check notebook server for' +\n",
       "                        ' errors.';\n",
       "    }\n",
       "});\n",
       "})(this.parentElement, '/qiime2/redirect?location=/tmp/qiime2-archive-avpe1xff')\" src=\"data:image/gif;base64,R0lGODlhAQABAIAAAP///wAAACH5BAEAAAAALAAAAAABAAEAAAICRAEAOw==\" /></div>"
      ],
      "text/plain": [
       "<visualization: Visualization uuid: 7ab19b2b-3c0d-4574-8b87-c0313d12fcd1>"
      ]
     },
     "execution_count": 11,
     "metadata": {},
     "output_type": "execute_result"
    }
   ],
   "source": [
    "Visualization.load('table.qzv')"
   ]
  },
  {
   "cell_type": "code",
   "execution_count": 12,
   "metadata": {},
   "outputs": [
    {
     "name": "stdout",
     "output_type": "stream",
     "text": [
      "\u001b[32mSaved Visualization to: rep-seqs.qzv\u001b[0m\r\n"
     ]
    }
   ],
   "source": [
    "!qiime feature-table tabulate-seqs \\\n",
    "  --i-data rep-seqs-2.qza \\\n",
    "  --o-visualization rep-seqs.qzv"
   ]
  },
  {
   "cell_type": "code",
   "execution_count": 13,
   "metadata": {},
   "outputs": [
    {
     "data": {
      "text/html": [
       "<div><img onload=\"(function(div, url){\n",
       "if (typeof require !== 'undefined') {\n",
       "    var baseURL = require.toUrl('').split('/').slice(0, -2).join('/');\n",
       "} else {\n",
       "    var baseURL = JSON.parse(\n",
       "        document.getElementById('jupyter-config-data').innerHTML\n",
       "    ).baseUrl.slice(0, -1);\n",
       "}\n",
       "url = baseURL + url;\n",
       "fetch(url).then(function(res) {\n",
       "    if (res.status === 404) {\n",
       "        div.innerHTML = 'Install QIIME 2 Jupyter extension with:<br />' +\n",
       "                        '<code>jupyter serverextension enable --py qiime2' +\n",
       "                        ' --sys-prefix</code><br />then restart your server.' +\n",
       "                        '<br /><br />(Interactive output not available on ' +\n",
       "                        'static notebook viewer services like nbviewer.)';\n",
       "    } else if (res.status === 409) {\n",
       "        div.innerHTML = 'Visualization no longer in scope. Re-run this cell' +\n",
       "                        ' to see the visualization.';\n",
       "    } else if (res.ok) {\n",
       "        url = res.url;\n",
       "        div.innerHTML = '<iframe src=\\'' + url + '\\' style=\\'' +\n",
       "                        'width: 100%; height: 700px; border: 0;\\'>' +\n",
       "                        '</iframe><hr />Open in a: <a href=\\'' + url + '\\'' +\n",
       "                        ' target=\\'_blank\\'>new window</a>'\n",
       "    } else {\n",
       "        div.innerHTML = 'Something has gone wrong. Check notebook server for' +\n",
       "                        ' errors.';\n",
       "    }\n",
       "});\n",
       "})(this.parentElement, '/qiime2/redirect?location=/tmp/qiime2-archive-iij0suga')\" src=\"data:image/gif;base64,R0lGODlhAQABAIAAAP///wAAACH5BAEAAAAALAAAAAABAAEAAAICRAEAOw==\" /></div>"
      ],
      "text/plain": [
       "<visualization: Visualization uuid: d7a2ba38-9279-4e20-b026-919709d47112>"
      ]
     },
     "execution_count": 13,
     "metadata": {},
     "output_type": "execute_result"
    }
   ],
   "source": [
    "Visualization.load('rep-seqs.qzv')"
   ]
  },
  {
   "cell_type": "markdown",
   "metadata": {},
   "source": [
    "# Diversity analysis\n",
    "\n",
    "Now that you have FeatureTable[Frequency] and FeatureData[Sequence] objects, you’re ready to begin exploring the composition of these samples in the context of their metadata. "
   ]
  }
 ],
 "metadata": {
  "kernelspec": {
   "display_name": "Python 3",
   "language": "python",
   "name": "python3"
  },
  "language_info": {
   "codemirror_mode": {
    "name": "ipython",
    "version": 3
   },
   "file_extension": ".py",
   "mimetype": "text/x-python",
   "name": "python",
   "nbconvert_exporter": "python",
   "pygments_lexer": "ipython3",
   "version": "3.6.7"
  }
 },
 "nbformat": 4,
 "nbformat_minor": 2
}
