{
 "cells": [
  {
   "cell_type": "markdown",
   "metadata": {},
   "source": [
    "출처: https://docs.qiime2.org/2019.7/tutorials/gneiss/\n",
    "\n",
    "In this tutorial you will learn how to perform differential abundance analysis using balances in gneiss.\n",
    "\n",
    "\n",
    "Compositionality refers to the issue of dealing with proportions.\n",
    "\n",
    "While we cannot exactly solve the problem of identifying differentially abundant species, we can relax this problem and ask which partitions of microbes are changing.\n",
    "\n",
    "# Creating balances\n",
    "\n",
    "In the Chronic Fatigue Syndrome dataset published in Giloteaux et al (2016), there are 87 individuals with 48 diseased patients and 39 healthy controls. The data used in this tutorial were sequenced on an Illumina MiSeq using the Earth Microbiome Project hypervariable region 4 (V4) 16S rRNA sequencing protocol."
   ]
  },
  {
   "cell_type": "code",
   "execution_count": 1,
   "metadata": {},
   "outputs": [
    {
     "name": "stdout",
     "output_type": "stream",
     "text": [
      "--2019-09-05 10:57:37--  https://data.qiime2.org/2019.7/tutorials/gneiss/sample-metadata.tsv\n",
      "Resolving data.qiime2.org (data.qiime2.org)... 52.35.38.247\n",
      "Connecting to data.qiime2.org (data.qiime2.org)|52.35.38.247|:443... connected.\n",
      "HTTP request sent, awaiting response... 302 FOUND\n",
      "Location: https://s3-us-west-2.amazonaws.com/qiime2-data/2019.7/tutorials/gneiss/sample-metadata.tsv [following]\n",
      "--2019-09-05 10:57:37--  https://s3-us-west-2.amazonaws.com/qiime2-data/2019.7/tutorials/gneiss/sample-metadata.tsv\n",
      "Resolving s3-us-west-2.amazonaws.com (s3-us-west-2.amazonaws.com)... 54.231.176.192\n",
      "Connecting to s3-us-west-2.amazonaws.com (s3-us-west-2.amazonaws.com)|54.231.176.192|:443... connected.\n",
      "HTTP request sent, awaiting response... 200 OK\n",
      "Length: 10540 (10K) [text/plain]\n",
      "Saving to: `sample-metadata.tsv'\n",
      "\n",
      "100%[======================================>] 10,540      --.-K/s   in 0s      \n",
      "\n",
      "2019-09-05 10:57:38 (25.1 MB/s) - `sample-metadata.tsv' saved [10540/10540]\n",
      "\n"
     ]
    }
   ],
   "source": [
    "!wget \\\n",
    "  -O \"sample-metadata.tsv\" \\\n",
    "  \"https://data.qiime2.org/2019.7/tutorials/gneiss/sample-metadata.tsv\""
   ]
  },
  {
   "cell_type": "code",
   "execution_count": 2,
   "metadata": {},
   "outputs": [
    {
     "name": "stdout",
     "output_type": "stream",
     "text": [
      "--2019-09-05 10:57:44--  https://data.qiime2.org/2019.7/tutorials/gneiss/table.qza\n",
      "Resolving data.qiime2.org (data.qiime2.org)... 52.35.38.247\n",
      "Connecting to data.qiime2.org (data.qiime2.org)|52.35.38.247|:443... connected.\n",
      "HTTP request sent, awaiting response... 302 FOUND\n",
      "Location: https://s3-us-west-2.amazonaws.com/qiime2-data/2019.7/tutorials/gneiss/table.qza [following]\n",
      "--2019-09-05 10:57:44--  https://s3-us-west-2.amazonaws.com/qiime2-data/2019.7/tutorials/gneiss/table.qza\n",
      "Resolving s3-us-west-2.amazonaws.com (s3-us-west-2.amazonaws.com)... 52.218.144.8\n",
      "Connecting to s3-us-west-2.amazonaws.com (s3-us-west-2.amazonaws.com)|52.218.144.8|:443... connected.\n",
      "HTTP request sent, awaiting response... 200 OK\n",
      "Length: 35979 (35K) [binary/octet-stream]\n",
      "Saving to: `table.qza'\n",
      "\n",
      "100%[======================================>] 35,979      --.-K/s   in 0.1s    \n",
      "\n",
      "2019-09-05 10:57:45 (238 KB/s) - `table.qza' saved [35979/35979]\n",
      "\n"
     ]
    }
   ],
   "source": [
    "!wget \\\n",
    "  -O \"table.qza\" \\\n",
    "  \"https://data.qiime2.org/2019.7/tutorials/gneiss/table.qza\""
   ]
  },
  {
   "cell_type": "code",
   "execution_count": 3,
   "metadata": {},
   "outputs": [
    {
     "name": "stdout",
     "output_type": "stream",
     "text": [
      "--2019-09-05 10:57:52--  https://data.qiime2.org/2019.7/tutorials/gneiss/taxa.qza\n",
      "Resolving data.qiime2.org (data.qiime2.org)... 52.35.38.247\n",
      "Connecting to data.qiime2.org (data.qiime2.org)|52.35.38.247|:443... connected.\n",
      "HTTP request sent, awaiting response... 302 FOUND\n",
      "Location: https://s3-us-west-2.amazonaws.com/qiime2-data/2019.7/tutorials/gneiss/taxa.qza [following]\n",
      "--2019-09-05 10:57:53--  https://s3-us-west-2.amazonaws.com/qiime2-data/2019.7/tutorials/gneiss/taxa.qza\n",
      "Resolving s3-us-west-2.amazonaws.com (s3-us-west-2.amazonaws.com)... 52.218.232.200\n",
      "Connecting to s3-us-west-2.amazonaws.com (s3-us-west-2.amazonaws.com)|52.218.232.200|:443... connected.\n",
      "HTTP request sent, awaiting response... 200 OK\n",
      "Length: 96166 (94K) [binary/octet-stream]\n",
      "Saving to: `taxa.qza'\n",
      "\n",
      "100%[======================================>] 96,166       303K/s   in 0.3s    \n",
      "\n",
      "2019-09-05 10:57:54 (303 KB/s) - `taxa.qza' saved [96166/96166]\n",
      "\n"
     ]
    }
   ],
   "source": [
    "!wget \\\n",
    "  -O \"taxa.qza\" \\\n",
    "  \"https://data.qiime2.org/2019.7/tutorials/gneiss/taxa.qza\""
   ]
  },
  {
   "cell_type": "markdown",
   "metadata": {},
   "source": [
    "First, we will define partitions of microbes for which we want to construct balances. \n",
    "\n",
    "Note that the differential abundance techniques that we will be running will utilize log ratio transforms.\n",
    "\n",
    "# Option 1: Correlation-clustering\n",
    "\n",
    "This option should be your default option."
   ]
  },
  {
   "cell_type": "code",
   "execution_count": 4,
   "metadata": {},
   "outputs": [
    {
     "name": "stdout",
     "output_type": "stream",
     "text": [
      "\u001b[32mSaved Hierarchy to: hierarchy.qza\u001b[0m\r\n"
     ]
    }
   ],
   "source": [
    "!qiime gneiss correlation-clustering \\\n",
    "  --i-table table.qza \\\n",
    "  --o-clustering hierarchy.qza"
   ]
  },
  {
   "cell_type": "markdown",
   "metadata": {},
   "source": [
    "# Option 2: Gradient-clustering\n",
    "\n",
    "An alternative to correlation-clustering is to create a tree based on a numeric metadata category.\n"
   ]
  },
  {
   "cell_type": "code",
   "execution_count": 5,
   "metadata": {},
   "outputs": [
    {
     "name": "stdout",
     "output_type": "stream",
     "text": [
      "\u001b[32mSaved Hierarchy to: gradient-hierarchy.qza\u001b[0m\r\n"
     ]
    }
   ],
   "source": [
    "!qiime gneiss gradient-clustering \\\n",
    "  --i-table table.qza \\\n",
    "  --m-gradient-file sample-metadata.tsv \\\n",
    "  --m-gradient-column Age \\\n",
    "  --o-clustering gradient-hierarchy.qza"
   ]
  },
  {
   "cell_type": "markdown",
   "metadata": {},
   "source": [
    "An important consideration for downstream analyses is the problem of overfitting.\n",
    "\n",
    "# Building linear models using balances\n",
    "\n",
    "Now that we have a tree that defines our partitions, we can perform the isometric log ratio (ILR) transform."
   ]
  },
  {
   "cell_type": "code",
   "execution_count": 6,
   "metadata": {},
   "outputs": [
    {
     "name": "stdout",
     "output_type": "stream",
     "text": [
      "\u001b[32mSaved FeatureTable[Balance] to: balances.qza\u001b[0m\r\n"
     ]
    }
   ],
   "source": [
    "!qiime gneiss ilr-hierarchical \\\n",
    "  --i-table table.qza \\\n",
    "  --i-tree hierarchy.qza \\\n",
    "  --o-balances balances.qza"
   ]
  },
  {
   "cell_type": "markdown",
   "metadata": {},
   "source": [
    "Now that we have the log ratios of each node of our tree, we can run linear regression on the balances.\n",
    "\n",
    "Remember that ANOVA is a special case of linear regression - every problem that can be solved by ANOVA can be reformulated as a linear regression. "
   ]
  },
  {
   "cell_type": "code",
   "execution_count": 8,
   "metadata": {},
   "outputs": [
    {
     "name": "stdout",
     "output_type": "stream",
     "text": [
      "\u001b[33m\u001b[1mPlugin warning from gneiss:\n",
      "\n",
      "ols-regression is deprecated and will be removed in a future version of this plugin.\u001b[0m\n",
      "\u001b[32mSaved Visualization to: regression_summary.qzv\u001b[0m\n"
     ]
    }
   ],
   "source": [
    "!qiime gneiss ols-regression \\\n",
    "  --p-formula \"Subject+Sex+Age+BMI+sCD14ugml+LBPugml+LPSpgml\" \\\n",
    "  --i-table balances.qza \\\n",
    "  --i-tree hierarchy.qza \\\n",
    "  --m-metadata-file sample-metadata.tsv \\\n",
    "  --o-visualization regression_summary.qzv"
   ]
  },
  {
   "cell_type": "code",
   "execution_count": 9,
   "metadata": {},
   "outputs": [
    {
     "data": {
      "text/html": [
       "<div><img onload=\"(function(div, url){\n",
       "if (typeof require !== 'undefined') {\n",
       "    var baseURL = require.toUrl('').split('/').slice(0, -2).join('/');\n",
       "} else {\n",
       "    var baseURL = JSON.parse(\n",
       "        document.getElementById('jupyter-config-data').innerHTML\n",
       "    ).baseUrl.slice(0, -1);\n",
       "}\n",
       "url = baseURL + url;\n",
       "fetch(url).then(function(res) {\n",
       "    if (res.status === 404) {\n",
       "        div.innerHTML = 'Install QIIME 2 Jupyter extension with:<br />' +\n",
       "                        '<code>jupyter serverextension enable --py qiime2' +\n",
       "                        ' --sys-prefix</code><br />then restart your server.' +\n",
       "                        '<br /><br />(Interactive output not available on ' +\n",
       "                        'static notebook viewer services like nbviewer.)';\n",
       "    } else if (res.status === 409) {\n",
       "        div.innerHTML = 'Visualization no longer in scope. Re-run this cell' +\n",
       "                        ' to see the visualization.';\n",
       "    } else if (res.ok) {\n",
       "        url = res.url;\n",
       "        div.innerHTML = '<iframe src=\\'' + url + '\\' style=\\'' +\n",
       "                        'width: 100%; height: 700px; border: 0;\\'>' +\n",
       "                        '</iframe><hr />Open in a: <a href=\\'' + url + '\\'' +\n",
       "                        ' target=\\'_blank\\'>new window</a>'\n",
       "    } else {\n",
       "        div.innerHTML = 'Something has gone wrong. Check notebook server for' +\n",
       "                        ' errors.';\n",
       "    }\n",
       "});\n",
       "})(this.parentElement, '/qiime2/redirect?location=/tmp/qiime2-archive-x5opxums')\" src=\"data:image/gif;base64,R0lGODlhAQABAIAAAP///wAAACH5BAEAAAAALAAAAAABAAEAAAICRAEAOw==\" /></div>"
      ],
      "text/plain": [
       "<visualization: Visualization uuid: b32c22e3-f5c7-48a7-93d4-ddb25dbc9840>"
      ]
     },
     "execution_count": 9,
     "metadata": {},
     "output_type": "execute_result"
    }
   ],
   "source": [
    "from qiime2 import Visualization\n",
    "Visualization.load('regression_summary.qzv')"
   ]
  },
  {
   "cell_type": "markdown",
   "metadata": {},
   "source": [
    "As noted in the legend, the numerators for each balance are highlighted in light red, while the denominators are highlighted in dark red.\n",
    "\n",
    "Specifically we’ll plot a boxplot and identify taxa that could be explaining the differences between the control and patient groups."
   ]
  },
  {
   "cell_type": "code",
   "execution_count": 10,
   "metadata": {},
   "outputs": [
    {
     "name": "stdout",
     "output_type": "stream",
     "text": [
      "\u001b[33m\u001b[1mPlugin warning from gneiss:\n",
      "\n",
      "balance-taxonomy is deprecated and will be removed in a future version of this plugin.\u001b[0m\n",
      "\u001b[32mSaved Visualization to: y0_taxa_summary.qzv\u001b[0m\n"
     ]
    }
   ],
   "source": [
    "!qiime gneiss balance-taxonomy \\\n",
    "  --i-table table.qza \\\n",
    "  --i-tree hierarchy.qza \\\n",
    "  --i-taxonomy taxa.qza \\\n",
    "  --p-taxa-level 2 \\\n",
    "  --p-balance-name 'y0' \\\n",
    "  --m-metadata-file sample-metadata.tsv \\\n",
    "  --m-metadata-column Subject \\\n",
    "  --o-visualization y0_taxa_summary.qzv"
   ]
  },
  {
   "cell_type": "code",
   "execution_count": 11,
   "metadata": {},
   "outputs": [
    {
     "data": {
      "text/html": [
       "<div><img onload=\"(function(div, url){\n",
       "if (typeof require !== 'undefined') {\n",
       "    var baseURL = require.toUrl('').split('/').slice(0, -2).join('/');\n",
       "} else {\n",
       "    var baseURL = JSON.parse(\n",
       "        document.getElementById('jupyter-config-data').innerHTML\n",
       "    ).baseUrl.slice(0, -1);\n",
       "}\n",
       "url = baseURL + url;\n",
       "fetch(url).then(function(res) {\n",
       "    if (res.status === 404) {\n",
       "        div.innerHTML = 'Install QIIME 2 Jupyter extension with:<br />' +\n",
       "                        '<code>jupyter serverextension enable --py qiime2' +\n",
       "                        ' --sys-prefix</code><br />then restart your server.' +\n",
       "                        '<br /><br />(Interactive output not available on ' +\n",
       "                        'static notebook viewer services like nbviewer.)';\n",
       "    } else if (res.status === 409) {\n",
       "        div.innerHTML = 'Visualization no longer in scope. Re-run this cell' +\n",
       "                        ' to see the visualization.';\n",
       "    } else if (res.ok) {\n",
       "        url = res.url;\n",
       "        div.innerHTML = '<iframe src=\\'' + url + '\\' style=\\'' +\n",
       "                        'width: 100%; height: 700px; border: 0;\\'>' +\n",
       "                        '</iframe><hr />Open in a: <a href=\\'' + url + '\\'' +\n",
       "                        ' target=\\'_blank\\'>new window</a>'\n",
       "    } else {\n",
       "        div.innerHTML = 'Something has gone wrong. Check notebook server for' +\n",
       "                        ' errors.';\n",
       "    }\n",
       "});\n",
       "})(this.parentElement, '/qiime2/redirect?location=/tmp/qiime2-archive-bhe1u0d6')\" src=\"data:image/gif;base64,R0lGODlhAQABAIAAAP///wAAACH5BAEAAAAALAAAAAABAAEAAAICRAEAOw==\" /></div>"
      ],
      "text/plain": [
       "<visualization: Visualization uuid: 6114f137-981b-4008-8669-eae0993ba3b2>"
      ]
     },
     "execution_count": 11,
     "metadata": {},
     "output_type": "execute_result"
    }
   ],
   "source": [
    "Visualization.load('y0_taxa_summary.qzv')"
   ]
  },
  {
   "cell_type": "markdown",
   "metadata": {},
   "source": [
    "In this particular case, the log ratio is lower in the patient group compared to the control group\n",
    "\n",
    "Remember, based on the toy examples given in the beginning of this tutorial, it is not possible to infer absolute changes of microbes in a given sample."
   ]
  }
 ],
 "metadata": {
  "kernelspec": {
   "display_name": "Python 3",
   "language": "python",
   "name": "python3"
  },
  "language_info": {
   "codemirror_mode": {
    "name": "ipython",
    "version": 3
   },
   "file_extension": ".py",
   "mimetype": "text/x-python",
   "name": "python",
   "nbconvert_exporter": "python",
   "pygments_lexer": "ipython3",
   "version": "3.6.7"
  }
 },
 "nbformat": 4,
 "nbformat_minor": 2
}
