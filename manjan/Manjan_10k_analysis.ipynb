{
 "cells": [
  {
   "cell_type": "markdown",
   "metadata": {},
   "source": [
    "시작하기전에 Subsampling부터 한다. `Qiime2`에서는 feature_table을 만들때는 가능하지만 데이터를 처음 불러올때는 해당 기능이 없는것 같다.\n",
    "\n",
    "# seqtk으로 subsampling\n",
    "\n",
    "일단은 10,000개 정도면 적당할 것으로 보인다. [seqtk](https://github.com/lh3/seqtk)는 깃헙에서 사용법을 확인 할 수 있다.\n",
    "\n",
    "- Subsample 10000 read pairs from two large paired FASTQ files (remember to use the same random seed to keep pairing):\n",
    "\n",
    "```\n",
    "seqtk sample -s100 read1.fq 10000 > sub1.fq\n",
    "seqtk sample -s100 read2.fq 10000 > sub2.fq\n",
    "```  \n",
    "\n",
    "## conda 명령어로 설치\n",
    "\n",
    "```\n",
    "conda install -c bioconda seqtk\n",
    "```"
   ]
  },
  {
   "cell_type": "code",
   "execution_count": 1,
   "metadata": {},
   "outputs": [
    {
     "name": "stdout",
     "output_type": "stream",
     "text": [
      "Collecting package metadata (current_repodata.json): done\n",
      "Solving environment: done\n",
      "\n",
      "## Package Plan ##\n",
      "\n",
      "  environment location: /home/partrita/miniconda3/envs/qiime2-2019.7\n",
      "\n",
      "  added / updated specs:\n",
      "    - seqtk\n",
      "\n",
      "\n",
      "The following packages will be downloaded:\n",
      "\n",
      "    package                    |            build\n",
      "    ---------------------------|-----------------\n",
      "    certifi-2019.6.16          |           py36_1         152 KB\n",
      "    openssl-1.1.1d             |       h7b6447c_1         3.7 MB\n",
      "    seqtk-1.3                  |       hed695b0_2          39 KB  bioconda\n",
      "    ------------------------------------------------------------\n",
      "                                           Total:         3.9 MB\n",
      "\n",
      "The following NEW packages will be INSTALLED:\n",
      "\n",
      "  seqtk              bioconda/linux-64::seqtk-1.3-hed695b0_2\n",
      "\n",
      "The following packages will be UPDATED:\n",
      "\n",
      "  openssl            conda-forge::openssl-1.1.1c-h516909a_0 --> pkgs/main::openssl-1.1.1d-h7b6447c_1\n",
      "\n",
      "The following packages will be SUPERSEDED by a higher-priority channel:\n",
      "\n",
      "  certifi                                       conda-forge --> pkgs/main\n",
      "\n",
      "\n",
      "\n",
      "Downloading and Extracting Packages\n",
      "certifi-2019.6.16    | 152 KB    | ##################################### | 100% \n",
      "openssl-1.1.1d       | 3.7 MB    | ##################################### | 100% \n",
      "seqtk-1.3            | 39 KB     | ##################################### | 100% \n",
      "Preparing transaction: done\n",
      "Verifying transaction: done\n",
      "Executing transaction: done\n"
     ]
    }
   ],
   "source": [
    "!conda install -c bioconda seqtk -y"
   ]
  },
  {
   "cell_type": "code",
   "execution_count": 8,
   "metadata": {},
   "outputs": [
    {
     "name": "stdout",
     "output_type": "stream",
     "text": [
      ".\t\t02-Man_2.fastq\t05-Man_1.fastq\t07-Man_2.fastq\t10-Man_1.fastq\r\n",
      "..\t\t03-Man_1.fastq\t05-Man_2.fastq\t08-Man_1.fastq\t10-Man_2.fastq\r\n",
      "01-Man_1.fastq\t03-Man_2.fastq\t06-Man_1.fastq\t08-Man_2.fastq\r\n",
      "01-Man_2.fastq\t04-Man_1.fastq\t06-Man_2.fastq\t09-Man_1.fastq\r\n",
      "02-Man_1.fastq\t04-Man_2.fastq\t07-Man_1.fastq\t09-Man_2.fastq\r\n"
     ]
    }
   ],
   "source": [
    "!ls -a data"
   ]
  },
  {
   "cell_type": "code",
   "execution_count": 3,
   "metadata": {},
   "outputs": [],
   "source": [
    "!seqtk sample -s100 data/01-Man_1.fastq 10000 > sub_data/01-Man_1.fastq\n",
    "!seqtk sample -s100 data/01-Man_2.fastq 10000 > sub_data/01-Man_2.fastq\n",
    "!seqtk sample -s100 data/02-Man_1.fastq 10000 > sub_data/02-Man_1.fastq\n",
    "!seqtk sample -s100 data/02-Man_2.fastq 10000 > sub_data/02-Man_2.fastq\n",
    "!seqtk sample -s100 data/03-Man_1.fastq 10000 > sub_data/03-Man_1.fastq\n",
    "!seqtk sample -s100 data/03-Man_2.fastq 10000 > sub_data/03-Man_2.fastq\n",
    "!seqtk sample -s100 data/04-Man_1.fastq 10000 > sub_data/04-Man_1.fastq\n",
    "!seqtk sample -s100 data/04-Man_2.fastq 10000 > sub_data/04-Man_2.fastq\n",
    "!seqtk sample -s100 data/05-Man_1.fastq 10000 > sub_data/05-Man_1.fastq\n",
    "!seqtk sample -s100 data/05-Man_2.fastq 10000 > sub_data/05-Man_2.fastq\n",
    "!seqtk sample -s100 data/06-Man_1.fastq 10000 > sub_data/06-Man_1.fastq\n",
    "!seqtk sample -s100 data/06-Man_2.fastq 10000 > sub_data/06-Man_2.fastq\n",
    "!seqtk sample -s100 data/07-Man_1.fastq 10000 > sub_data/07-Man_1.fastq\n",
    "!seqtk sample -s100 data/07-Man_2.fastq 10000 > sub_data/07-Man_2.fastq\n",
    "!seqtk sample -s100 data/08-Man_1.fastq 10000 > sub_data/08-Man_1.fastq\n",
    "!seqtk sample -s100 data/08-Man_2.fastq 10000 > sub_data/08-Man_2.fastq\n",
    "!seqtk sample -s100 data/09-Man_1.fastq 10000 > sub_data/09-Man_1.fastq\n",
    "!seqtk sample -s100 data/09-Man_2.fastq 10000 > sub_data/09-Man_2.fastq\n",
    "!seqtk sample -s100 data/10-Man_1.fastq 10000 > sub_data/10-Man_1.fastq\n",
    "!seqtk sample -s100 data/10-Man_2.fastq 10000 > sub_data/10-Man_2.fastq"
   ]
  },
  {
   "cell_type": "markdown",
   "metadata": {},
   "source": [
    "위의 명령어에서 `-s100`는 seed number로 동일한 샘플링을 위해서 동일한 숫자를 사용해야한다.\n",
    "\n",
    "# qza 파일 만들기\n",
    "\n",
    "`qiime2`를 사용하기 위해서는 데이터를 `.qza`형식으로 변환해야한다. 아래 명령어를 사용하기 위해 `manifest`파일을 만들고 TSV형식으로 Sample ID와 file_path를 지정해줘야 한다.\n",
    "\n"
   ]
  },
  {
   "cell_type": "code",
   "execution_count": 4,
   "metadata": {},
   "outputs": [
    {
     "name": "stdout",
     "output_type": "stream",
     "text": [
      "\u001b[32mImported sub_manifest as PairedEndFastqManifestPhred33V2 to paired_end_demux.qza\u001b[0m\r\n"
     ]
    }
   ],
   "source": [
    "!qiime tools import \\\n",
    "  --type 'SampleData[PairedEndSequencesWithQuality]' \\\n",
    "  --input-path sub_manifest \\\n",
    "  --output-path sub_10k_demux.qza \\\n",
    "  --input-format PairedEndFastqManifestPhred33V2"
   ]
  },
  {
   "cell_type": "markdown",
   "metadata": {},
   "source": [
    "demultiplexing을 결과를 다음 명령어로 확인한다. \n",
    "\n",
    "- to determine how many sequences were obtained per sample\n",
    "- to get a summary of the distribution of sequence qualities at each position in your sequence data.\n"
   ]
  },
  {
   "cell_type": "code",
   "execution_count": 6,
   "metadata": {},
   "outputs": [
    {
     "name": "stdout",
     "output_type": "stream",
     "text": [
      "\u001b[32mSaved Visualization to: output/sub_demux.qzv\u001b[0m\r\n"
     ]
    }
   ],
   "source": [
    "!qiime demux summarize \\\n",
    "  --i-data sub_10K_demux.qza \\\n",
    "  --o-visualization output/sub_demux.qzv"
   ]
  },
  {
   "cell_type": "code",
   "execution_count": 83,
   "metadata": {},
   "outputs": [
    {
     "data": {
      "text/html": [
       "<div><img onload=\"(function(div, url){\n",
       "if (typeof require !== 'undefined') {\n",
       "    var baseURL = require.toUrl('').split('/').slice(0, -2).join('/');\n",
       "} else {\n",
       "    var baseURL = JSON.parse(\n",
       "        document.getElementById('jupyter-config-data').innerHTML\n",
       "    ).baseUrl.slice(0, -1);\n",
       "}\n",
       "url = baseURL + url;\n",
       "fetch(url).then(function(res) {\n",
       "    if (res.status === 404) {\n",
       "        div.innerHTML = 'Install QIIME 2 Jupyter extension with:<br />' +\n",
       "                        '<code>jupyter serverextension enable --py qiime2' +\n",
       "                        ' --sys-prefix</code><br />then restart your server.' +\n",
       "                        '<br /><br />(Interactive output not available on ' +\n",
       "                        'static notebook viewer services like nbviewer.)';\n",
       "    } else if (res.status === 409) {\n",
       "        div.innerHTML = 'Visualization no longer in scope. Re-run this cell' +\n",
       "                        ' to see the visualization.';\n",
       "    } else if (res.ok) {\n",
       "        url = res.url;\n",
       "        div.innerHTML = '<iframe src=\\'' + url + '\\' style=\\'' +\n",
       "                        'width: 100%; height: 700px; border: 0;\\'>' +\n",
       "                        '</iframe><hr />Open in a: <a href=\\'' + url + '\\'' +\n",
       "                        ' target=\\'_blank\\'>new window</a>'\n",
       "    } else {\n",
       "        div.innerHTML = 'Something has gone wrong. Check notebook server for' +\n",
       "                        ' errors.';\n",
       "    }\n",
       "});\n",
       "})(this.parentElement, '/qiime2/redirect?location=/tmp/qiime2-archive-b9_j3mnt')\" src=\"data:image/gif;base64,R0lGODlhAQABAIAAAP///wAAACH5BAEAAAAALAAAAAABAAEAAAICRAEAOw==\" /></div>"
      ],
      "text/plain": [
       "<visualization: Visualization uuid: d5a19487-77b9-4b0f-8681-36b9886cf674>"
      ]
     },
     "execution_count": 83,
     "metadata": {},
     "output_type": "execute_result"
    }
   ],
   "source": [
    "from qiime2 import Visualization\n",
    "Visualization.load('output/sub_demux.qzv')"
   ]
  },
  {
   "cell_type": "markdown",
   "metadata": {},
   "source": [
    "# Sequence quality control \n",
    "\n",
    "위의 **quality plot** 결과를 볼때 forward는 22-290bp, reverse는 6-217bp 정도가 쓸만한 것 같다.\n",
    "\n",
    "그런데 foward와 reverse의 최소값이 35bp인데 뭔가 문제가 있는 것 같다.\n",
    "\n",
    "## TODO: 서열의 분표를 확인하고 outlier는 제거하자"
   ]
  },
  {
   "cell_type": "code",
   "execution_count": 25,
   "metadata": {},
   "outputs": [
    {
     "name": "stdout",
     "output_type": "stream",
     "text": [
      "\u001b[32mSaved FeatureTable[Frequency] to: output/sub_table.qza\u001b[0m\n",
      "\u001b[32mSaved FeatureData[Sequence] to: output/sub_rep_seqs.qza\u001b[0m\n",
      "\u001b[32mSaved SampleData[DADA2Stats] to: output/sub_denoising_stats.qza\u001b[0m\n"
     ]
    }
   ],
   "source": [
    "!qiime dada2 denoise-paired \\\n",
    "  --i-demultiplexed-seqs sub_10k_demux.qza \\\n",
    "  --p-n-threads 0 \\\n",
    "  --p-trim-left-f 35 \\\n",
    "  --p-trim-left-r 35 \\\n",
    "  --p-trunc-len-f 260 \\\n",
    "  --p-trunc-len-r 260 \\\n",
    "  --o-table output/sub_table.qza \\\n",
    "  --o-representative-sequences output/sub_rep_seqs.qza \\\n",
    "  --o-denoising-stats output/sub_denoising_stats.qza"
   ]
  },
  {
   "cell_type": "markdown",
   "metadata": {},
   "source": [
    "# feature table summary\n"
   ]
  },
  {
   "cell_type": "code",
   "execution_count": 54,
   "metadata": {},
   "outputs": [
    {
     "name": "stdout",
     "output_type": "stream",
     "text": [
      "\u001b[32mSaved Visualization to: output/sub_table.qzv\u001b[0m\r\n"
     ]
    }
   ],
   "source": [
    "!qiime feature-table summarize \\\n",
    "  --i-table output/sub_table.qza \\\n",
    "  --o-visualization output/sub_table.qzv \\\n",
    "  --m-sample-metadata-file metadata.tsv"
   ]
  },
  {
   "cell_type": "code",
   "execution_count": 82,
   "metadata": {},
   "outputs": [
    {
     "data": {
      "text/html": [
       "<div><img onload=\"(function(div, url){\n",
       "if (typeof require !== 'undefined') {\n",
       "    var baseURL = require.toUrl('').split('/').slice(0, -2).join('/');\n",
       "} else {\n",
       "    var baseURL = JSON.parse(\n",
       "        document.getElementById('jupyter-config-data').innerHTML\n",
       "    ).baseUrl.slice(0, -1);\n",
       "}\n",
       "url = baseURL + url;\n",
       "fetch(url).then(function(res) {\n",
       "    if (res.status === 404) {\n",
       "        div.innerHTML = 'Install QIIME 2 Jupyter extension with:<br />' +\n",
       "                        '<code>jupyter serverextension enable --py qiime2' +\n",
       "                        ' --sys-prefix</code><br />then restart your server.' +\n",
       "                        '<br /><br />(Interactive output not available on ' +\n",
       "                        'static notebook viewer services like nbviewer.)';\n",
       "    } else if (res.status === 409) {\n",
       "        div.innerHTML = 'Visualization no longer in scope. Re-run this cell' +\n",
       "                        ' to see the visualization.';\n",
       "    } else if (res.ok) {\n",
       "        url = res.url;\n",
       "        div.innerHTML = '<iframe src=\\'' + url + '\\' style=\\'' +\n",
       "                        'width: 100%; height: 700px; border: 0;\\'>' +\n",
       "                        '</iframe><hr />Open in a: <a href=\\'' + url + '\\'' +\n",
       "                        ' target=\\'_blank\\'>new window</a>'\n",
       "    } else {\n",
       "        div.innerHTML = 'Something has gone wrong. Check notebook server for' +\n",
       "                        ' errors.';\n",
       "    }\n",
       "});\n",
       "})(this.parentElement, '/qiime2/redirect?location=/tmp/qiime2-archive-v002g_au')\" src=\"data:image/gif;base64,R0lGODlhAQABAIAAAP///wAAACH5BAEAAAAALAAAAAABAAEAAAICRAEAOw==\" /></div>"
      ],
      "text/plain": [
       "<visualization: Visualization uuid: df1bbe5c-1774-41b9-a57f-a830c1b266d7>"
      ]
     },
     "execution_count": 82,
     "metadata": {},
     "output_type": "execute_result"
    }
   ],
   "source": [
    "Visualization.load('output/sub_table.qzv')"
   ]
  },
  {
   "cell_type": "code",
   "execution_count": 56,
   "metadata": {},
   "outputs": [
    {
     "name": "stdout",
     "output_type": "stream",
     "text": [
      "\u001b[32mSaved Visualization to: output/sub_rep_seqs.qzv\u001b[0m\r\n"
     ]
    }
   ],
   "source": [
    "!qiime feature-table tabulate-seqs \\\n",
    "  --i-data output/sub_rep_seqs.qza \\\n",
    "  --o-visualization output/sub_rep_seqs.qzv"
   ]
  },
  {
   "cell_type": "code",
   "execution_count": 81,
   "metadata": {},
   "outputs": [
    {
     "data": {
      "text/html": [
       "<div><img onload=\"(function(div, url){\n",
       "if (typeof require !== 'undefined') {\n",
       "    var baseURL = require.toUrl('').split('/').slice(0, -2).join('/');\n",
       "} else {\n",
       "    var baseURL = JSON.parse(\n",
       "        document.getElementById('jupyter-config-data').innerHTML\n",
       "    ).baseUrl.slice(0, -1);\n",
       "}\n",
       "url = baseURL + url;\n",
       "fetch(url).then(function(res) {\n",
       "    if (res.status === 404) {\n",
       "        div.innerHTML = 'Install QIIME 2 Jupyter extension with:<br />' +\n",
       "                        '<code>jupyter serverextension enable --py qiime2' +\n",
       "                        ' --sys-prefix</code><br />then restart your server.' +\n",
       "                        '<br /><br />(Interactive output not available on ' +\n",
       "                        'static notebook viewer services like nbviewer.)';\n",
       "    } else if (res.status === 409) {\n",
       "        div.innerHTML = 'Visualization no longer in scope. Re-run this cell' +\n",
       "                        ' to see the visualization.';\n",
       "    } else if (res.ok) {\n",
       "        url = res.url;\n",
       "        div.innerHTML = '<iframe src=\\'' + url + '\\' style=\\'' +\n",
       "                        'width: 100%; height: 700px; border: 0;\\'>' +\n",
       "                        '</iframe><hr />Open in a: <a href=\\'' + url + '\\'' +\n",
       "                        ' target=\\'_blank\\'>new window</a>'\n",
       "    } else {\n",
       "        div.innerHTML = 'Something has gone wrong. Check notebook server for' +\n",
       "                        ' errors.';\n",
       "    }\n",
       "});\n",
       "})(this.parentElement, '/qiime2/redirect?location=/tmp/qiime2-archive-_4ik0h65')\" src=\"data:image/gif;base64,R0lGODlhAQABAIAAAP///wAAACH5BAEAAAAALAAAAAABAAEAAAICRAEAOw==\" /></div>"
      ],
      "text/plain": [
       "<visualization: Visualization uuid: ee6fb663-7780-46f1-9a63-fbf2745e631f>"
      ]
     },
     "execution_count": 81,
     "metadata": {},
     "output_type": "execute_result"
    }
   ],
   "source": [
    "Visualization.load('output/sub_rep_seqs.qzv')"
   ]
  },
  {
   "cell_type": "markdown",
   "metadata": {},
   "source": [
    "denoising stat도 시각화 한다."
   ]
  },
  {
   "cell_type": "code",
   "execution_count": 58,
   "metadata": {},
   "outputs": [
    {
     "name": "stdout",
     "output_type": "stream",
     "text": [
      "\u001b[32mSaved Visualization to: output/sub_denoising_stats.qzv\u001b[0m\r\n"
     ]
    }
   ],
   "source": [
    "!qiime metadata tabulate \\\n",
    "  --m-input-file output/sub_denoising_stats.qza \\\n",
    "  --o-visualization output/sub_denoising_stats.qzv"
   ]
  },
  {
   "cell_type": "code",
   "execution_count": 80,
   "metadata": {
    "scrolled": true
   },
   "outputs": [
    {
     "data": {
      "text/html": [
       "<div><img onload=\"(function(div, url){\n",
       "if (typeof require !== 'undefined') {\n",
       "    var baseURL = require.toUrl('').split('/').slice(0, -2).join('/');\n",
       "} else {\n",
       "    var baseURL = JSON.parse(\n",
       "        document.getElementById('jupyter-config-data').innerHTML\n",
       "    ).baseUrl.slice(0, -1);\n",
       "}\n",
       "url = baseURL + url;\n",
       "fetch(url).then(function(res) {\n",
       "    if (res.status === 404) {\n",
       "        div.innerHTML = 'Install QIIME 2 Jupyter extension with:<br />' +\n",
       "                        '<code>jupyter serverextension enable --py qiime2' +\n",
       "                        ' --sys-prefix</code><br />then restart your server.' +\n",
       "                        '<br /><br />(Interactive output not available on ' +\n",
       "                        'static notebook viewer services like nbviewer.)';\n",
       "    } else if (res.status === 409) {\n",
       "        div.innerHTML = 'Visualization no longer in scope. Re-run this cell' +\n",
       "                        ' to see the visualization.';\n",
       "    } else if (res.ok) {\n",
       "        url = res.url;\n",
       "        div.innerHTML = '<iframe src=\\'' + url + '\\' style=\\'' +\n",
       "                        'width: 100%; height: 700px; border: 0;\\'>' +\n",
       "                        '</iframe><hr />Open in a: <a href=\\'' + url + '\\'' +\n",
       "                        ' target=\\'_blank\\'>new window</a>'\n",
       "    } else {\n",
       "        div.innerHTML = 'Something has gone wrong. Check notebook server for' +\n",
       "                        ' errors.';\n",
       "    }\n",
       "});\n",
       "})(this.parentElement, '/qiime2/redirect?location=/tmp/qiime2-archive-gjde3t9o')\" src=\"data:image/gif;base64,R0lGODlhAQABAIAAAP///wAAACH5BAEAAAAALAAAAAABAAEAAAICRAEAOw==\" /></div>"
      ],
      "text/plain": [
       "<visualization: Visualization uuid: 2b328279-37a9-401b-9307-6f018e01ec67>"
      ]
     },
     "execution_count": 80,
     "metadata": {},
     "output_type": "execute_result"
    }
   ],
   "source": [
    "Visualization.load('output/sub_denoising_stats.qzv')"
   ]
  },
  {
   "cell_type": "markdown",
   "metadata": {},
   "source": [
    "# Generate a tree for phylogenetic diversity analyses"
   ]
  },
  {
   "cell_type": "code",
   "execution_count": 60,
   "metadata": {},
   "outputs": [
    {
     "name": "stdout",
     "output_type": "stream",
     "text": [
      "\u001b[32mSaved Phylogeny[Rooted] to: output/sub_tree.qza\u001b[0m\n",
      "\u001b[32mSaved Placements to: output/sub_tree_placements.qza\u001b[0m\n"
     ]
    }
   ],
   "source": [
    "!qiime fragment-insertion sepp \\\n",
    "  --i-representative-sequences output/sub_rep_seqs.qza \\\n",
    "  --o-tree output/sub_tree.qza \\\n",
    "  --o-placements output/sub_tree_placements.qza \\\n",
    "  --p-threads 8  # update to a higher number if you can"
   ]
  },
  {
   "cell_type": "markdown",
   "metadata": {},
   "source": [
    "# Alpha and beta diversity analysis\n",
    "\n",
    "- we must normalize our data to account for uneven sequencing depth between samples.\n",
    "\n",
    "We’ll use qiime diversity alpha-rarefaction to subsample the ASV table at different depths (between --p-min-depth and --p-max-depth) and calculate the alpha diversity using one or more metrics (--p-metrics). When we checked the feature table, we found that the sample with the fewest sequences in the denoised table has `85` features and that the sample with the most has `4996` features. We want to set a maximum depth close to the maximum number of sequences. We also know that if we look at a sequencing depth around `4250` sequences per sample, we’ll be looking at information from 22 samples. So, let’s set this as our maximum sequencing depth.\n",
    "\n",
    "\n",
    "> max-depth가 2800일때 Retained 120 (45.28%) features in 4 (40.00%) samples\n",
    "\n",
    "\n",
    "This visualizer computes one or more alpha diversity metrics at multiple sampling depths, in steps between 1 (optionally controlled with --p-min-depth) and the value provided as --p-max-depth. At each sampling depth step, 10 rarefied tables will be generated, and the diversity metrics will be computed for all samples in the tables. "
   ]
  },
  {
   "cell_type": "code",
   "execution_count": 61,
   "metadata": {},
   "outputs": [
    {
     "name": "stdout",
     "output_type": "stream",
     "text": [
      "\u001b[32mSaved Visualization to: output/sub_alpha_rarefaction_curves.qzv\u001b[0m\r\n"
     ]
    }
   ],
   "source": [
    "!qiime diversity alpha-rarefaction \\\n",
    "  --i-table output/sub_table.qza \\\n",
    "  --m-metadata-file metadata.tsv \\\n",
    "  --o-visualization output/sub_alpha_rarefaction_curves.qzv \\\n",
    "  --p-max-depth 2800"
   ]
  },
  {
   "cell_type": "code",
   "execution_count": 79,
   "metadata": {},
   "outputs": [
    {
     "data": {
      "text/html": [
       "<div><img onload=\"(function(div, url){\n",
       "if (typeof require !== 'undefined') {\n",
       "    var baseURL = require.toUrl('').split('/').slice(0, -2).join('/');\n",
       "} else {\n",
       "    var baseURL = JSON.parse(\n",
       "        document.getElementById('jupyter-config-data').innerHTML\n",
       "    ).baseUrl.slice(0, -1);\n",
       "}\n",
       "url = baseURL + url;\n",
       "fetch(url).then(function(res) {\n",
       "    if (res.status === 404) {\n",
       "        div.innerHTML = 'Install QIIME 2 Jupyter extension with:<br />' +\n",
       "                        '<code>jupyter serverextension enable --py qiime2' +\n",
       "                        ' --sys-prefix</code><br />then restart your server.' +\n",
       "                        '<br /><br />(Interactive output not available on ' +\n",
       "                        'static notebook viewer services like nbviewer.)';\n",
       "    } else if (res.status === 409) {\n",
       "        div.innerHTML = 'Visualization no longer in scope. Re-run this cell' +\n",
       "                        ' to see the visualization.';\n",
       "    } else if (res.ok) {\n",
       "        url = res.url;\n",
       "        div.innerHTML = '<iframe src=\\'' + url + '\\' style=\\'' +\n",
       "                        'width: 100%; height: 700px; border: 0;\\'>' +\n",
       "                        '</iframe><hr />Open in a: <a href=\\'' + url + '\\'' +\n",
       "                        ' target=\\'_blank\\'>new window</a>'\n",
       "    } else {\n",
       "        div.innerHTML = 'Something has gone wrong. Check notebook server for' +\n",
       "                        ' errors.';\n",
       "    }\n",
       "});\n",
       "})(this.parentElement, '/qiime2/redirect?location=/tmp/qiime2-archive-vsx51h_1')\" src=\"data:image/gif;base64,R0lGODlhAQABAIAAAP///wAAACH5BAEAAAAALAAAAAABAAEAAAICRAEAOw==\" /></div>"
      ],
      "text/plain": [
       "<visualization: Visualization uuid: 57111cc6-a1fd-451f-b518-f23930ac4f88>"
      ]
     },
     "execution_count": 79,
     "metadata": {},
     "output_type": "execute_result"
    }
   ],
   "source": [
    "Visualization.load('output/sub_alpha_rarefaction_curves.qzv')"
   ]
  },
  {
   "cell_type": "code",
   "execution_count": 63,
   "metadata": {
    "scrolled": false
   },
   "outputs": [
    {
     "name": "stdout",
     "output_type": "stream",
     "text": [
      "Usage: \u001b[34mqiime diversity core-metrics-phylogenetic\u001b[0m [OPTIONS]\r\n",
      "\r\n",
      "  Applies a collection of diversity metrics (both phylogenetic and non-\r\n",
      "  phylogenetic) to a feature table.\r\n",
      "\r\n",
      "\u001b[1mInputs\u001b[0m:\r\n",
      "  \u001b[34m\u001b[4m--i-table\u001b[0m ARTIFACT \u001b[32mFeatureTable[Frequency]\u001b[0m\r\n",
      "                          The feature table containing the samples over which\r\n",
      "                          diversity metrics should be computed.     \u001b[35m[required]\u001b[0m\r\n",
      "  \u001b[34m\u001b[4m--i-phylogeny\u001b[0m ARTIFACT  Phylogenetic tree containing tip identifiers that\r\n",
      "    \u001b[32mPhylogeny[Rooted]\u001b[0m     correspond to the feature identifiers in the table.\r\n",
      "                          This tree can contain tip ids that are not present\r\n",
      "                          in the table, but all feature ids in the table must\r\n",
      "                          be present in this tree.                  \u001b[35m[required]\u001b[0m\r\n",
      "\u001b[1mParameters\u001b[0m:\r\n",
      "  \u001b[34m\u001b[4m--p-sampling-depth\u001b[0m INTEGER\r\n",
      "    \u001b[32mRange(1, None)\u001b[0m        The total frequency that each sample should be\r\n",
      "                          rarefied to prior to computing diversity metrics.\r\n",
      "                                                                    \u001b[35m[required]\u001b[0m\r\n",
      "  \u001b[34m\u001b[4m--m-metadata-file\u001b[0m METADATA...\r\n",
      "    (multiple arguments   The sample metadata to use in the emperor plots.\r\n",
      "     will be merged)                                                \u001b[35m[required]\u001b[0m\r\n",
      "  \u001b[34m--p-n-jobs\u001b[0m INTEGER      [beta/beta-phylogenetic methods only, excluding\r\n",
      "    \u001b[32mRange(0, None)\u001b[0m        weighted_unifrac] - The number of jobs to use for\r\n",
      "                          the computation. This works by breaking down the\r\n",
      "                          pairwise matrix into \u001b[4mn-jobs\u001b[0m even slices and\r\n",
      "                          computing them in parallel. If -1 all CPUs are used.\r\n",
      "                          If 1 is given, no parallel computing code is used at\r\n",
      "                          all, which is useful for debugging. For \u001b[4mn-jobs\u001b[0m below\r\n",
      "                          -1, (n_cpus + 1 + \u001b[4mn-jobs\u001b[0m) are used. Thus for \u001b[4mn-jobs\u001b[0m\r\n",
      "                          = -2, all CPUs but one are used. (Description from\r\n",
      "                          sklearn.metrics.pairwise_distances)     \u001b[35m[default: 1]\u001b[0m\r\n",
      "\u001b[1mOutputs\u001b[0m:\r\n",
      "  \u001b[34m\u001b[4m--o-rarefied-table\u001b[0m ARTIFACT \u001b[32mFeatureTable[Frequency]\u001b[0m\r\n",
      "                          The resulting rarefied feature table.     \u001b[35m[required]\u001b[0m\r\n",
      "  \u001b[34m\u001b[4m--o-faith-pd-vector\u001b[0m ARTIFACT \u001b[32mSampleData[AlphaDiversity]\u001b[0m\r\n",
      "                          Vector of Faith PD values by sample.      \u001b[35m[required]\u001b[0m\r\n",
      "  \u001b[34m\u001b[4m--o-observed-otus-vector\u001b[0m ARTIFACT \u001b[32mSampleData[AlphaDiversity]\u001b[0m\r\n",
      "                          Vector of Observed OTUs values by sample. \u001b[35m[required]\u001b[0m\r\n",
      "  \u001b[34m\u001b[4m--o-shannon-vector\u001b[0m ARTIFACT \u001b[32mSampleData[AlphaDiversity]\u001b[0m\r\n",
      "                          Vector of Shannon diversity values by sample.\r\n",
      "                                                                    \u001b[35m[required]\u001b[0m\r\n",
      "  \u001b[34m\u001b[4m--o-evenness-vector\u001b[0m ARTIFACT \u001b[32mSampleData[AlphaDiversity]\u001b[0m\r\n",
      "                          Vector of Pielou's evenness values by sample.\r\n",
      "                                                                    \u001b[35m[required]\u001b[0m\r\n",
      "  \u001b[34m\u001b[4m--o-unweighted-unifrac-distance-matrix\u001b[0m ARTIFACT\r\n",
      "    \u001b[32mDistanceMatrix\u001b[0m        Matrix of unweighted UniFrac distances between\r\n",
      "                          pairs of samples.                         \u001b[35m[required]\u001b[0m\r\n",
      "  \u001b[34m\u001b[4m--o-weighted-unifrac-distance-matrix\u001b[0m ARTIFACT\r\n",
      "    \u001b[32mDistanceMatrix\u001b[0m        Matrix of weighted UniFrac distances between pairs\r\n",
      "                          of samples.                               \u001b[35m[required]\u001b[0m\r\n",
      "  \u001b[34m\u001b[4m--o-jaccard-distance-matrix\u001b[0m ARTIFACT\r\n",
      "    \u001b[32mDistanceMatrix\u001b[0m        Matrix of Jaccard distances between pairs of\r\n",
      "                          samples.                                  \u001b[35m[required]\u001b[0m\r\n",
      "  \u001b[34m\u001b[4m--o-bray-curtis-distance-matrix\u001b[0m ARTIFACT\r\n",
      "    \u001b[32mDistanceMatrix\u001b[0m        Matrix of Bray-Curtis distances between pairs of\r\n",
      "                          samples.                                  \u001b[35m[required]\u001b[0m\r\n",
      "  \u001b[34m\u001b[4m--o-unweighted-unifrac-pcoa-results\u001b[0m ARTIFACT\r\n",
      "    \u001b[32mPCoAResults\u001b[0m           PCoA matrix computed from unweighted UniFrac\r\n",
      "                          distances between samples.                \u001b[35m[required]\u001b[0m\r\n",
      "  \u001b[34m\u001b[4m--o-weighted-unifrac-pcoa-results\u001b[0m ARTIFACT\r\n",
      "    \u001b[32mPCoAResults\u001b[0m           PCoA matrix computed from weighted UniFrac\r\n",
      "                          distances between samples.                \u001b[35m[required]\u001b[0m\r\n",
      "  \u001b[34m\u001b[4m--o-jaccard-pcoa-results\u001b[0m ARTIFACT\r\n",
      "    \u001b[32mPCoAResults\u001b[0m           PCoA matrix computed from Jaccard distances between\r\n",
      "                          samples.                                  \u001b[35m[required]\u001b[0m\r\n",
      "  \u001b[34m\u001b[4m--o-bray-curtis-pcoa-results\u001b[0m ARTIFACT\r\n",
      "    \u001b[32mPCoAResults\u001b[0m           PCoA matrix computed from Bray-Curtis distances\r\n",
      "                          between samples.                          \u001b[35m[required]\u001b[0m\r\n",
      "  \u001b[34m\u001b[4m--o-unweighted-unifrac-emperor\u001b[0m VISUALIZATION\r\n",
      "                          Emperor plot of the PCoA matrix computed from\r\n",
      "                          unweighted UniFrac.                       \u001b[35m[required]\u001b[0m\r\n",
      "  \u001b[34m\u001b[4m--o-weighted-unifrac-emperor\u001b[0m VISUALIZATION\r\n",
      "                          Emperor plot of the PCoA matrix computed from\r\n",
      "                          weighted UniFrac.                         \u001b[35m[required]\u001b[0m\r\n",
      "  \u001b[34m\u001b[4m--o-jaccard-emperor\u001b[0m VISUALIZATION\r\n",
      "                          Emperor plot of the PCoA matrix computed from\r\n",
      "                          Jaccard.                                  \u001b[35m[required]\u001b[0m\r\n",
      "  \u001b[34m\u001b[4m--o-bray-curtis-emperor\u001b[0m VISUALIZATION\r\n",
      "                          Emperor plot of the PCoA matrix computed from\r\n",
      "                          Bray-Curtis.                              \u001b[35m[required]\u001b[0m\r\n",
      "\u001b[1mMiscellaneous\u001b[0m:\r\n",
      "  \u001b[34m--output-dir\u001b[0m PATH       Output unspecified results to a directory\r\n",
      "  \u001b[34m--verbose\u001b[0m / \u001b[34m--quiet\u001b[0m     Display verbose output to stdout and/or stderr\r\n",
      "                          during execution of this action. Or silence output\r\n",
      "                          if execution is successful (silence is golden).\r\n",
      "  \u001b[34m--citations\u001b[0m             Show citations and exit.\r\n",
      "  \u001b[34m--help\u001b[0m                  Show this message and exit.\r\n",
      "\r\n",
      "\u001b[33m                  There were some problems with the command:                  \u001b[0m\r\n",
      "\u001b[31m\u001b[1m (1/18) Invalid value for \"--output-dir\": 'output/core-metrics-results'\r\n",
      "  already exists, will not overwrite.\u001b[0m\u001b[0m\r\n",
      "\u001b[31m\u001b[1m (2/18) Missing option \"--o-rarefied-table\".  (\"--output-dir\" may also be\r\n",
      "  used)\u001b[0m\u001b[0m\r\n",
      "\u001b[31m\u001b[1m (3/18) Missing option \"--o-faith-pd-vector\".  (\"--output-dir\" may also be\r\n",
      "  used)\u001b[0m\u001b[0m\r\n",
      "\u001b[31m\u001b[1m (4/18) Missing option \"--o-observed-otus-vector\".  (\"--output-dir\" may also\r\n",
      "  be used)\u001b[0m\u001b[0m\r\n",
      "\u001b[31m\u001b[1m (5/18) Missing option \"--o-shannon-vector\".  (\"--output-dir\" may also be\r\n",
      "  used)\u001b[0m\u001b[0m\r\n",
      "\u001b[31m\u001b[1m (6/18) Missing option \"--o-evenness-vector\".  (\"--output-dir\" may also be\r\n",
      "  used)\u001b[0m\u001b[0m\r\n",
      "\u001b[31m\u001b[1m (7/18) Missing option \"--o-unweighted-unifrac-distance-matrix\".  (\"--output-\r\n",
      "  dir\" may also be used)\u001b[0m\u001b[0m\r\n",
      "\u001b[31m\u001b[1m (8/18) Missing option \"--o-weighted-unifrac-distance-matrix\".  (\"--output-\r\n",
      "  dir\" may also be used)\u001b[0m\u001b[0m\r\n",
      "\u001b[31m\u001b[1m (9/18) Missing option \"--o-jaccard-distance-matrix\".  (\"--output-dir\" may\r\n",
      "  also be used)\u001b[0m\u001b[0m\r\n",
      "\u001b[31m\u001b[1m (10/18) Missing option \"--o-bray-curtis-distance-matrix\".  (\"--output-dir\"\r\n",
      "  may also be used)\u001b[0m\u001b[0m\r\n",
      "\u001b[31m\u001b[1m (11/18) Missing option \"--o-unweighted-unifrac-pcoa-results\".  (\"--output-\r\n",
      "  dir\" may also be used)\u001b[0m\u001b[0m\r\n",
      "\u001b[31m\u001b[1m (12/18) Missing option \"--o-weighted-unifrac-pcoa-results\".  (\"--output-dir\"\r\n",
      "  may also be used)\u001b[0m\u001b[0m\r\n",
      "\u001b[31m\u001b[1m (13/18) Missing option \"--o-jaccard-pcoa-results\".  (\"--output-dir\" may also\r\n",
      "  be used)\u001b[0m\u001b[0m\r\n",
      "\u001b[31m\u001b[1m (14/18) Missing option \"--o-bray-curtis-pcoa-results\".  (\"--output-dir\" may\r\n",
      "  also be used)\u001b[0m\u001b[0m\r\n",
      "\u001b[31m\u001b[1m (15/18) Missing option \"--o-unweighted-unifrac-emperor\".  (\"--output-dir\" may\r\n",
      "  also be used)\u001b[0m\u001b[0m\r\n",
      "\u001b[31m\u001b[1m (16/18) Missing option \"--o-weighted-unifrac-emperor\".  (\"--output-dir\" may\r\n",
      "  also be used)\u001b[0m\u001b[0m\r\n",
      "\u001b[31m\u001b[1m (17/18) Missing option \"--o-jaccard-emperor\".  (\"--output-dir\" may also be\r\n",
      "  used)\u001b[0m\u001b[0m\r\n",
      "\u001b[31m\u001b[1m (18/18) Missing option \"--o-bray-curtis-emperor\".  (\"--output-dir\" may also\r\n",
      "  be used)\u001b[0m\u001b[0m\r\n"
     ]
    }
   ],
   "source": [
    "!qiime diversity core-metrics-phylogenetic \\\n",
    "  --i-table output/sub_table.qza \\\n",
    "  --i-phylogeny output/sub_tree.qza \\\n",
    "  --m-metadata-file metadata.tsv \\\n",
    "  --p-sampling-depth 1500 \\\n",
    "  --output-dir output/core-metrics-results"
   ]
  },
  {
   "cell_type": "markdown",
   "metadata": {},
   "source": [
    "# alpha diversity"
   ]
  },
  {
   "cell_type": "code",
   "execution_count": 64,
   "metadata": {},
   "outputs": [
    {
     "name": "stdout",
     "output_type": "stream",
     "text": [
      "\u001b[32mSaved Visualization to: output/core-metrics-results/faiths_pd_statistics.qzv\u001b[0m\r\n"
     ]
    }
   ],
   "source": [
    "!qiime diversity alpha-group-significance \\\n",
    "  --i-alpha-diversity output/core-metrics-results/faith_pd_vector.qza \\\n",
    "  --m-metadata-file metadata.tsv \\\n",
    "  --o-visualization output/core-metrics-results/faiths_pd_statistics.qzv"
   ]
  },
  {
   "cell_type": "code",
   "execution_count": 72,
   "metadata": {
    "scrolled": false
   },
   "outputs": [
    {
     "data": {
      "text/html": [
       "<div><img onload=\"(function(div, url){\n",
       "if (typeof require !== 'undefined') {\n",
       "    var baseURL = require.toUrl('').split('/').slice(0, -2).join('/');\n",
       "} else {\n",
       "    var baseURL = JSON.parse(\n",
       "        document.getElementById('jupyter-config-data').innerHTML\n",
       "    ).baseUrl.slice(0, -1);\n",
       "}\n",
       "url = baseURL + url;\n",
       "fetch(url).then(function(res) {\n",
       "    if (res.status === 404) {\n",
       "        div.innerHTML = 'Install QIIME 2 Jupyter extension with:<br />' +\n",
       "                        '<code>jupyter serverextension enable --py qiime2' +\n",
       "                        ' --sys-prefix</code><br />then restart your server.' +\n",
       "                        '<br /><br />(Interactive output not available on ' +\n",
       "                        'static notebook viewer services like nbviewer.)';\n",
       "    } else if (res.status === 409) {\n",
       "        div.innerHTML = 'Visualization no longer in scope. Re-run this cell' +\n",
       "                        ' to see the visualization.';\n",
       "    } else if (res.ok) {\n",
       "        url = res.url;\n",
       "        div.innerHTML = '<iframe src=\\'' + url + '\\' style=\\'' +\n",
       "                        'width: 100%; height: 700px; border: 0;\\'>' +\n",
       "                        '</iframe><hr />Open in a: <a href=\\'' + url + '\\'' +\n",
       "                        ' target=\\'_blank\\'>new window</a>'\n",
       "    } else {\n",
       "        div.innerHTML = 'Something has gone wrong. Check notebook server for' +\n",
       "                        ' errors.';\n",
       "    }\n",
       "});\n",
       "})(this.parentElement, '/qiime2/redirect?location=/tmp/qiime2-archive-uoc4j6d_')\" src=\"data:image/gif;base64,R0lGODlhAQABAIAAAP///wAAACH5BAEAAAAALAAAAAABAAEAAAICRAEAOw==\" /></div>"
      ],
      "text/plain": [
       "<visualization: Visualization uuid: 1d797a29-1a43-45d2-b258-f3012ef903df>"
      ]
     },
     "execution_count": 72,
     "metadata": {},
     "output_type": "execute_result"
    }
   ],
   "source": [
    "Visualization.load('output/core-metrics-results/faiths_pd_statistics.qzv')"
   ]
  },
  {
   "cell_type": "markdown",
   "metadata": {},
   "source": [
    "메타데이터에 categorical 그룹을 추가했다.\n",
    "\n",
    "# Taxonomic classification\n",
    "\n",
    "For this analysis, we’ll use a pre-trained naive Bayes machine-learning classifier that was trained to differentiate taxa present in the 99% Greengenes 13_8 reference set trimmed to 250 bp of the V4 hypervariable region"
   ]
  },
  {
   "cell_type": "code",
   "execution_count": 65,
   "metadata": {},
   "outputs": [
    {
     "name": "stdout",
     "output_type": "stream",
     "text": [
      "--2019-09-18 09:41:14--  https://data.qiime2.org/2019.7/common/gg-13-8-99-515-806-nb-classifier.qza\n",
      "Resolving data.qiime2.org (data.qiime2.org)... 52.35.38.247\n",
      "Connecting to data.qiime2.org (data.qiime2.org)|52.35.38.247|:443... connected.\n",
      "HTTP request sent, awaiting response... 302 FOUND\n",
      "Location: https://s3-us-west-2.amazonaws.com/qiime2-data/2019.7/common/gg-13-8-99-515-806-nb-classifier.qza [following]\n",
      "--2019-09-18 09:41:15--  https://s3-us-west-2.amazonaws.com/qiime2-data/2019.7/common/gg-13-8-99-515-806-nb-classifier.qza\n",
      "Resolving s3-us-west-2.amazonaws.com (s3-us-west-2.amazonaws.com)... 52.218.212.248\n",
      "Connecting to s3-us-west-2.amazonaws.com (s3-us-west-2.amazonaws.com)|52.218.212.248|:443... connected.\n",
      "HTTP request sent, awaiting response... 200 OK\n",
      "Length: 28373760 (27M) [application/x-www-form-urlencoded]\n",
      "Saving to: `gg-13-8-99-515-806-nb-classifier.qza'\n",
      "\n",
      "100%[======================================>] 28,373,760  5.66M/s   in 5.3s    \n",
      "\n",
      "2019-09-18 09:41:21 (5.10 MB/s) - `gg-13-8-99-515-806-nb-classifier.qza' saved [28373760/28373760]\n",
      "\n"
     ]
    }
   ],
   "source": [
    "!wget \\\n",
    "  -O \"gg-13-8-99-515-806-nb-classifier.qza\" \\\n",
    "  \"https://data.qiime2.org/2019.7/common/gg-13-8-99-515-806-nb-classifier.qza\""
   ]
  },
  {
   "cell_type": "code",
   "execution_count": 66,
   "metadata": {},
   "outputs": [
    {
     "name": "stdout",
     "output_type": "stream",
     "text": [
      "\u001b[32mSaved FeatureData[Taxonomy] to: output/sub_taxonomy.qza\u001b[0m\r\n"
     ]
    }
   ],
   "source": [
    "!qiime feature-classifier classify-sklearn \\\n",
    "  --i-reads output/sub_rep_seqs.qza  \\\n",
    "  --i-classifier gg-13-8-99-515-806-nb-classifier.qza \\\n",
    "  --o-classification output/sub_taxonomy.qza"
   ]
  },
  {
   "cell_type": "code",
   "execution_count": 67,
   "metadata": {},
   "outputs": [
    {
     "name": "stdout",
     "output_type": "stream",
     "text": [
      "\u001b[32mSaved Visualization to: output/sub_taxonomy.qzv\u001b[0m\r\n"
     ]
    }
   ],
   "source": [
    "!qiime metadata tabulate \\\n",
    "  --m-input-file output/sub_taxonomy.qza \\\n",
    "  --o-visualization output/sub_taxonomy.qzv"
   ]
  },
  {
   "cell_type": "code",
   "execution_count": 68,
   "metadata": {},
   "outputs": [
    {
     "name": "stdout",
     "output_type": "stream",
     "text": [
      "\u001b[32mSaved Visualization to: output/sub_rep_set.qzv\u001b[0m\r\n"
     ]
    }
   ],
   "source": [
    "!qiime feature-table tabulate-seqs \\\n",
    "  --i-data output/sub_rep_seqs.qza \\\n",
    "  --o-visualization output/sub_rep_set.qzv"
   ]
  },
  {
   "cell_type": "markdown",
   "metadata": {},
   "source": [
    "# bar chart"
   ]
  },
  {
   "cell_type": "code",
   "execution_count": 69,
   "metadata": {},
   "outputs": [
    {
     "name": "stdout",
     "output_type": "stream",
     "text": [
      "\u001b[32mSaved FeatureTable[Frequency] to: output/table_1k.qza\u001b[0m\r\n"
     ]
    }
   ],
   "source": [
    "!qiime feature-table filter-samples \\\n",
    "  --i-table output/sub_table.qza \\\n",
    "  --p-min-frequency 1500 \\\n",
    "  --o-filtered-table output/table_1k.qza"
   ]
  },
  {
   "cell_type": "code",
   "execution_count": 70,
   "metadata": {},
   "outputs": [
    {
     "name": "stdout",
     "output_type": "stream",
     "text": [
      "\u001b[32mSaved Visualization to: output/taxa_barplot.qzv\u001b[0m\r\n"
     ]
    }
   ],
   "source": [
    "!qiime taxa barplot \\\n",
    "  --i-table output/table_1k.qza \\\n",
    "  --i-taxonomy output/sub_taxonomy.qza \\\n",
    "  --m-metadata-file metadata.tsv \\\n",
    "  --o-visualization output/taxa_barplot.qzv"
   ]
  },
  {
   "cell_type": "code",
   "execution_count": 78,
   "metadata": {},
   "outputs": [
    {
     "data": {
      "text/html": [
       "<div><img onload=\"(function(div, url){\n",
       "if (typeof require !== 'undefined') {\n",
       "    var baseURL = require.toUrl('').split('/').slice(0, -2).join('/');\n",
       "} else {\n",
       "    var baseURL = JSON.parse(\n",
       "        document.getElementById('jupyter-config-data').innerHTML\n",
       "    ).baseUrl.slice(0, -1);\n",
       "}\n",
       "url = baseURL + url;\n",
       "fetch(url).then(function(res) {\n",
       "    if (res.status === 404) {\n",
       "        div.innerHTML = 'Install QIIME 2 Jupyter extension with:<br />' +\n",
       "                        '<code>jupyter serverextension enable --py qiime2' +\n",
       "                        ' --sys-prefix</code><br />then restart your server.' +\n",
       "                        '<br /><br />(Interactive output not available on ' +\n",
       "                        'static notebook viewer services like nbviewer.)';\n",
       "    } else if (res.status === 409) {\n",
       "        div.innerHTML = 'Visualization no longer in scope. Re-run this cell' +\n",
       "                        ' to see the visualization.';\n",
       "    } else if (res.ok) {\n",
       "        url = res.url;\n",
       "        div.innerHTML = '<iframe src=\\'' + url + '\\' style=\\'' +\n",
       "                        'width: 100%; height: 700px; border: 0;\\'>' +\n",
       "                        '</iframe><hr />Open in a: <a href=\\'' + url + '\\'' +\n",
       "                        ' target=\\'_blank\\'>new window</a>'\n",
       "    } else {\n",
       "        div.innerHTML = 'Something has gone wrong. Check notebook server for' +\n",
       "                        ' errors.';\n",
       "    }\n",
       "});\n",
       "})(this.parentElement, '/qiime2/redirect?location=/tmp/qiime2-archive-6ywbtnxt')\" src=\"data:image/gif;base64,R0lGODlhAQABAIAAAP///wAAACH5BAEAAAAALAAAAAABAAEAAAICRAEAOw==\" /></div>"
      ],
      "text/plain": [
       "<visualization: Visualization uuid: b531399e-eb10-4dd5-860f-27f138442b3e>"
      ]
     },
     "execution_count": 78,
     "metadata": {},
     "output_type": "execute_result"
    }
   ],
   "source": [
    "Visualization.load('output/taxa_barplot.qzv')"
   ]
  },
  {
   "cell_type": "markdown",
   "metadata": {},
   "source": [
    "# 엽록체 제외한 시각화\n",
    "\n",
    "https://docs.qiime2.org/2019.7/tutorials/filtering/ 에서 데이터 필터링하는 방법이 있음."
   ]
  },
  {
   "cell_type": "code",
   "execution_count": 74,
   "metadata": {},
   "outputs": [
    {
     "name": "stdout",
     "output_type": "stream",
     "text": [
      "\u001b[32mSaved FeatureTable[Frequency] to: output/no_chloroplast.qza\u001b[0m\r\n"
     ]
    }
   ],
   "source": [
    "!qiime taxa filter-table \\\n",
    "  --i-table output/table_1k.qza\\\n",
    "  --i-taxonomy output/sub_taxonomy.qza  \\\n",
    "  --p-exclude chloroplast \\\n",
    "  --o-filtered-table output/no_chloroplast.qza"
   ]
  },
  {
   "cell_type": "code",
   "execution_count": 75,
   "metadata": {},
   "outputs": [
    {
     "name": "stdout",
     "output_type": "stream",
     "text": [
      "\u001b[32mSaved Visualization to: output/no_taxa_barplot.qzv\u001b[0m\r\n"
     ]
    }
   ],
   "source": [
    "!qiime taxa barplot \\\n",
    "  --i-table output/no_chloroplast.qza \\\n",
    "  --i-taxonomy output/sub_taxonomy.qza \\\n",
    "  --m-metadata-file metadata.tsv \\\n",
    "  --o-visualization output/no_taxa_barplot.qzv"
   ]
  },
  {
   "cell_type": "code",
   "execution_count": 85,
   "metadata": {},
   "outputs": [
    {
     "data": {
      "text/html": [
       "<div><img onload=\"(function(div, url){\n",
       "if (typeof require !== 'undefined') {\n",
       "    var baseURL = require.toUrl('').split('/').slice(0, -2).join('/');\n",
       "} else {\n",
       "    var baseURL = JSON.parse(\n",
       "        document.getElementById('jupyter-config-data').innerHTML\n",
       "    ).baseUrl.slice(0, -1);\n",
       "}\n",
       "url = baseURL + url;\n",
       "fetch(url).then(function(res) {\n",
       "    if (res.status === 404) {\n",
       "        div.innerHTML = 'Install QIIME 2 Jupyter extension with:<br />' +\n",
       "                        '<code>jupyter serverextension enable --py qiime2' +\n",
       "                        ' --sys-prefix</code><br />then restart your server.' +\n",
       "                        '<br /><br />(Interactive output not available on ' +\n",
       "                        'static notebook viewer services like nbviewer.)';\n",
       "    } else if (res.status === 409) {\n",
       "        div.innerHTML = 'Visualization no longer in scope. Re-run this cell' +\n",
       "                        ' to see the visualization.';\n",
       "    } else if (res.ok) {\n",
       "        url = res.url;\n",
       "        div.innerHTML = '<iframe src=\\'' + url + '\\' style=\\'' +\n",
       "                        'width: 100%; height: 700px; border: 0;\\'>' +\n",
       "                        '</iframe><hr />Open in a: <a href=\\'' + url + '\\'' +\n",
       "                        ' target=\\'_blank\\'>new window</a>'\n",
       "    } else {\n",
       "        div.innerHTML = 'Something has gone wrong. Check notebook server for' +\n",
       "                        ' errors.';\n",
       "    }\n",
       "});\n",
       "})(this.parentElement, '/qiime2/redirect?location=/tmp/qiime2-archive-o_5yw2t0')\" src=\"data:image/gif;base64,R0lGODlhAQABAIAAAP///wAAACH5BAEAAAAALAAAAAABAAEAAAICRAEAOw==\" /></div>"
      ],
      "text/plain": [
       "<visualization: Visualization uuid: 3e95ac14-725a-4f65-b9c8-fa5361091c40>"
      ]
     },
     "execution_count": 85,
     "metadata": {},
     "output_type": "execute_result"
    }
   ],
   "source": [
    "Visualization.load('output/no_taxa_barplot.qzv')"
   ]
  }
 ],
 "metadata": {
  "kernelspec": {
   "display_name": "Python 3",
   "language": "python",
   "name": "python3"
  },
  "language_info": {
   "codemirror_mode": {
    "name": "ipython",
    "version": 3
   },
   "file_extension": ".py",
   "mimetype": "text/x-python",
   "name": "python",
   "nbconvert_exporter": "python",
   "pygments_lexer": "ipython3",
   "version": "3.6.7"
  }
 },
 "nbformat": 4,
 "nbformat_minor": 2
}
