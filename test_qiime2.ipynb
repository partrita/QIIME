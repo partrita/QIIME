{
 "cells": [
  {
   "cell_type": "code",
   "execution_count": 2,
   "metadata": {},
   "outputs": [],
   "source": [
    "from qiime2.plugins import feature_table"
   ]
  },
  {
   "cell_type": "code",
   "execution_count": 3,
   "metadata": {},
   "outputs": [],
   "source": [
    "from qiime2 import Artifact"
   ]
  },
  {
   "cell_type": "code",
   "execution_count": 4,
   "metadata": {},
   "outputs": [],
   "source": [
    "unrarefied_table = Artifact.load('table.qza')"
   ]
  },
  {
   "cell_type": "code",
   "execution_count": 5,
   "metadata": {},
   "outputs": [],
   "source": [
    "rarefy_result = feature_table.methods.rarefy(table=unrarefied_table, sampling_depth=100)"
   ]
  },
  {
   "cell_type": "code",
   "execution_count": 6,
   "metadata": {},
   "outputs": [],
   "source": [
    "rarefied_table = rarefy_result.rarefied_table"
   ]
  },
  {
   "cell_type": "code",
   "execution_count": 7,
   "metadata": {},
   "outputs": [
    {
     "name": "stdout",
     "output_type": "stream",
     "text": [
      "# Constructed from biom file\n",
      "#OTU ID\tL1S105\tL1S140\tL1S208\tL1S257\tL1S281\n",
      "4b5eeb300368260019c1fbc7a3c718fc\t29.0\t0.0\t0.0\t0.0\t0.0\n",
      "fe30ff0f71a38a39cf1717ec2be3a2fc\t0.0\t0.0\t0.0\t0.0\t0.0\n",
      "d29fe3c70564fc0f69f2c03e0d1e5561\t0.0\t0.0\t0.0\t0.0\t0.0\n",
      "868528ca947bc57b69ffdf83e6b73bae\t0.0\t26.0\t20.0\t18.0\t26.0\n",
      "154709e160e8cada6bfb21115acc80f5\t14.0\t15.0\t8.0\t8.0\t5.0\n"
     ]
    }
   ],
   "source": [
    "import biom\n",
    "biom_table = rarefied_table.view(biom.Table)\n",
    "print(biom_table.head())"
   ]
  },
  {
   "cell_type": "code",
   "execution_count": 8,
   "metadata": {},
   "outputs": [
    {
     "data": {
      "text/html": [
       "<div>\n",
       "<style scoped>\n",
       "    .dataframe tbody tr th:only-of-type {\n",
       "        vertical-align: middle;\n",
       "    }\n",
       "\n",
       "    .dataframe tbody tr th {\n",
       "        vertical-align: top;\n",
       "    }\n",
       "\n",
       "    .dataframe thead th {\n",
       "        text-align: right;\n",
       "    }\n",
       "</style>\n",
       "<table border=\"1\" class=\"dataframe\">\n",
       "  <thead>\n",
       "    <tr style=\"text-align: right;\">\n",
       "      <th></th>\n",
       "      <th>4b5eeb300368260019c1fbc7a3c718fc</th>\n",
       "      <th>fe30ff0f71a38a39cf1717ec2be3a2fc</th>\n",
       "      <th>d29fe3c70564fc0f69f2c03e0d1e5561</th>\n",
       "      <th>868528ca947bc57b69ffdf83e6b73bae</th>\n",
       "      <th>154709e160e8cada6bfb21115acc80f5</th>\n",
       "      <th>1d2e5f3444ca750c85302ceee2473331</th>\n",
       "      <th>0305a4993ecf2d8ef4149fdfc7592603</th>\n",
       "      <th>cb2fe0146e2fbcb101050edb996a0ee2</th>\n",
       "      <th>997056ba80681bbbdd5d09aa591eadc0</th>\n",
       "      <th>3c9c437f27aca05f8db167cd080ff1ec</th>\n",
       "      <th>...</th>\n",
       "      <th>84e6f7df01548135d92febfeae9a1ea6</th>\n",
       "      <th>a9541756b547061c02922f1a3a913fce</th>\n",
       "      <th>73bca1b91fb8a80ee698f1833c073664</th>\n",
       "      <th>bc15061b61cf6b5002c58284591f97d4</th>\n",
       "      <th>524f22cecc9957e9bf629b5fb0047adc</th>\n",
       "      <th>c88977d348c943b60eea8f1571e9a7ee</th>\n",
       "      <th>14e1a93cf2379225b1fd6ed0f186bacb</th>\n",
       "      <th>4d987a66ee0e67b68c5c4428097eb22e</th>\n",
       "      <th>08bd73939f7bfd85daf2eaee7e9c9bf8</th>\n",
       "      <th>06845c67bc4203081a981200f33e87eb</th>\n",
       "    </tr>\n",
       "  </thead>\n",
       "  <tbody>\n",
       "    <tr>\n",
       "      <th>L1S105</th>\n",
       "      <td>29.0</td>\n",
       "      <td>0.0</td>\n",
       "      <td>0.0</td>\n",
       "      <td>0.0</td>\n",
       "      <td>14.0</td>\n",
       "      <td>0.0</td>\n",
       "      <td>13.0</td>\n",
       "      <td>0.0</td>\n",
       "      <td>0.0</td>\n",
       "      <td>0.0</td>\n",
       "      <td>...</td>\n",
       "      <td>0.0</td>\n",
       "      <td>0.0</td>\n",
       "      <td>0.0</td>\n",
       "      <td>0.0</td>\n",
       "      <td>0.0</td>\n",
       "      <td>0.0</td>\n",
       "      <td>0.0</td>\n",
       "      <td>0.0</td>\n",
       "      <td>0.0</td>\n",
       "      <td>0.0</td>\n",
       "    </tr>\n",
       "    <tr>\n",
       "      <th>L1S140</th>\n",
       "      <td>0.0</td>\n",
       "      <td>0.0</td>\n",
       "      <td>0.0</td>\n",
       "      <td>26.0</td>\n",
       "      <td>15.0</td>\n",
       "      <td>0.0</td>\n",
       "      <td>14.0</td>\n",
       "      <td>0.0</td>\n",
       "      <td>0.0</td>\n",
       "      <td>0.0</td>\n",
       "      <td>...</td>\n",
       "      <td>0.0</td>\n",
       "      <td>0.0</td>\n",
       "      <td>0.0</td>\n",
       "      <td>0.0</td>\n",
       "      <td>0.0</td>\n",
       "      <td>0.0</td>\n",
       "      <td>0.0</td>\n",
       "      <td>0.0</td>\n",
       "      <td>0.0</td>\n",
       "      <td>0.0</td>\n",
       "    </tr>\n",
       "    <tr>\n",
       "      <th>L1S208</th>\n",
       "      <td>0.0</td>\n",
       "      <td>0.0</td>\n",
       "      <td>0.0</td>\n",
       "      <td>20.0</td>\n",
       "      <td>8.0</td>\n",
       "      <td>0.0</td>\n",
       "      <td>11.0</td>\n",
       "      <td>0.0</td>\n",
       "      <td>0.0</td>\n",
       "      <td>0.0</td>\n",
       "      <td>...</td>\n",
       "      <td>0.0</td>\n",
       "      <td>0.0</td>\n",
       "      <td>0.0</td>\n",
       "      <td>0.0</td>\n",
       "      <td>0.0</td>\n",
       "      <td>0.0</td>\n",
       "      <td>0.0</td>\n",
       "      <td>0.0</td>\n",
       "      <td>0.0</td>\n",
       "      <td>0.0</td>\n",
       "    </tr>\n",
       "    <tr>\n",
       "      <th>L1S257</th>\n",
       "      <td>0.0</td>\n",
       "      <td>0.0</td>\n",
       "      <td>0.0</td>\n",
       "      <td>18.0</td>\n",
       "      <td>8.0</td>\n",
       "      <td>0.0</td>\n",
       "      <td>14.0</td>\n",
       "      <td>0.0</td>\n",
       "      <td>0.0</td>\n",
       "      <td>0.0</td>\n",
       "      <td>...</td>\n",
       "      <td>0.0</td>\n",
       "      <td>0.0</td>\n",
       "      <td>0.0</td>\n",
       "      <td>0.0</td>\n",
       "      <td>0.0</td>\n",
       "      <td>0.0</td>\n",
       "      <td>0.0</td>\n",
       "      <td>0.0</td>\n",
       "      <td>0.0</td>\n",
       "      <td>0.0</td>\n",
       "    </tr>\n",
       "    <tr>\n",
       "      <th>L1S281</th>\n",
       "      <td>0.0</td>\n",
       "      <td>0.0</td>\n",
       "      <td>0.0</td>\n",
       "      <td>26.0</td>\n",
       "      <td>5.0</td>\n",
       "      <td>0.0</td>\n",
       "      <td>14.0</td>\n",
       "      <td>0.0</td>\n",
       "      <td>0.0</td>\n",
       "      <td>0.0</td>\n",
       "      <td>...</td>\n",
       "      <td>0.0</td>\n",
       "      <td>0.0</td>\n",
       "      <td>0.0</td>\n",
       "      <td>1.0</td>\n",
       "      <td>0.0</td>\n",
       "      <td>0.0</td>\n",
       "      <td>0.0</td>\n",
       "      <td>0.0</td>\n",
       "      <td>0.0</td>\n",
       "      <td>0.0</td>\n",
       "    </tr>\n",
       "  </tbody>\n",
       "</table>\n",
       "<p>5 rows × 382 columns</p>\n",
       "</div>"
      ],
      "text/plain": [
       "        4b5eeb300368260019c1fbc7a3c718fc  fe30ff0f71a38a39cf1717ec2be3a2fc  \\\n",
       "L1S105                              29.0                               0.0   \n",
       "L1S140                               0.0                               0.0   \n",
       "L1S208                               0.0                               0.0   \n",
       "L1S257                               0.0                               0.0   \n",
       "L1S281                               0.0                               0.0   \n",
       "\n",
       "        d29fe3c70564fc0f69f2c03e0d1e5561  868528ca947bc57b69ffdf83e6b73bae  \\\n",
       "L1S105                               0.0                               0.0   \n",
       "L1S140                               0.0                              26.0   \n",
       "L1S208                               0.0                              20.0   \n",
       "L1S257                               0.0                              18.0   \n",
       "L1S281                               0.0                              26.0   \n",
       "\n",
       "        154709e160e8cada6bfb21115acc80f5  1d2e5f3444ca750c85302ceee2473331  \\\n",
       "L1S105                              14.0                               0.0   \n",
       "L1S140                              15.0                               0.0   \n",
       "L1S208                               8.0                               0.0   \n",
       "L1S257                               8.0                               0.0   \n",
       "L1S281                               5.0                               0.0   \n",
       "\n",
       "        0305a4993ecf2d8ef4149fdfc7592603  cb2fe0146e2fbcb101050edb996a0ee2  \\\n",
       "L1S105                              13.0                               0.0   \n",
       "L1S140                              14.0                               0.0   \n",
       "L1S208                              11.0                               0.0   \n",
       "L1S257                              14.0                               0.0   \n",
       "L1S281                              14.0                               0.0   \n",
       "\n",
       "        997056ba80681bbbdd5d09aa591eadc0  3c9c437f27aca05f8db167cd080ff1ec  \\\n",
       "L1S105                               0.0                               0.0   \n",
       "L1S140                               0.0                               0.0   \n",
       "L1S208                               0.0                               0.0   \n",
       "L1S257                               0.0                               0.0   \n",
       "L1S281                               0.0                               0.0   \n",
       "\n",
       "        ...  84e6f7df01548135d92febfeae9a1ea6  \\\n",
       "L1S105  ...                               0.0   \n",
       "L1S140  ...                               0.0   \n",
       "L1S208  ...                               0.0   \n",
       "L1S257  ...                               0.0   \n",
       "L1S281  ...                               0.0   \n",
       "\n",
       "        a9541756b547061c02922f1a3a913fce  73bca1b91fb8a80ee698f1833c073664  \\\n",
       "L1S105                               0.0                               0.0   \n",
       "L1S140                               0.0                               0.0   \n",
       "L1S208                               0.0                               0.0   \n",
       "L1S257                               0.0                               0.0   \n",
       "L1S281                               0.0                               0.0   \n",
       "\n",
       "        bc15061b61cf6b5002c58284591f97d4  524f22cecc9957e9bf629b5fb0047adc  \\\n",
       "L1S105                               0.0                               0.0   \n",
       "L1S140                               0.0                               0.0   \n",
       "L1S208                               0.0                               0.0   \n",
       "L1S257                               0.0                               0.0   \n",
       "L1S281                               1.0                               0.0   \n",
       "\n",
       "        c88977d348c943b60eea8f1571e9a7ee  14e1a93cf2379225b1fd6ed0f186bacb  \\\n",
       "L1S105                               0.0                               0.0   \n",
       "L1S140                               0.0                               0.0   \n",
       "L1S208                               0.0                               0.0   \n",
       "L1S257                               0.0                               0.0   \n",
       "L1S281                               0.0                               0.0   \n",
       "\n",
       "        4d987a66ee0e67b68c5c4428097eb22e  08bd73939f7bfd85daf2eaee7e9c9bf8  \\\n",
       "L1S105                               0.0                               0.0   \n",
       "L1S140                               0.0                               0.0   \n",
       "L1S208                               0.0                               0.0   \n",
       "L1S257                               0.0                               0.0   \n",
       "L1S281                               0.0                               0.0   \n",
       "\n",
       "        06845c67bc4203081a981200f33e87eb  \n",
       "L1S105                               0.0  \n",
       "L1S140                               0.0  \n",
       "L1S208                               0.0  \n",
       "L1S257                               0.0  \n",
       "L1S281                               0.0  \n",
       "\n",
       "[5 rows x 382 columns]"
      ]
     },
     "execution_count": 8,
     "metadata": {},
     "output_type": "execute_result"
    }
   ],
   "source": [
    "import pandas as pd\n",
    "df = rarefied_table.view(pd.DataFrame)\n",
    "df.head()"
   ]
  },
  {
   "cell_type": "code",
   "execution_count": 9,
   "metadata": {},
   "outputs": [],
   "source": [
    "imported_artifact = Artifact.import_data(\"FeatureTable[Frequency]\", df)"
   ]
  },
  {
   "cell_type": "code",
   "execution_count": 10,
   "metadata": {},
   "outputs": [
    {
     "data": {
      "text/plain": [
       "L1S105    26\n",
       "L1S140    25\n",
       "L1S208    33\n",
       "L1S257    32\n",
       "L1S281    32\n",
       "L1S57     25\n",
       "L1S76     25\n",
       "L1S8      17\n",
       "L2S155    41\n",
       "L2S175    36\n",
       "L2S204    42\n",
       "L2S222    59\n",
       "L2S240    20\n",
       "L2S309    30\n",
       "L2S357    33\n",
       "L2S382    46\n",
       "L3S242    19\n",
       "L3S294    29\n",
       "L3S313    28\n",
       "L3S341    31\n",
       "L3S360    42\n",
       "L3S378    19\n",
       "L4S112    32\n",
       "L4S137    40\n",
       "L4S63     60\n",
       "L5S104    18\n",
       "L5S155    17\n",
       "L5S174    17\n",
       "L5S203    15\n",
       "L5S222    17\n",
       "L5S240    17\n",
       "L6S20     14\n",
       "L6S68     17\n",
       "L6S93     23\n",
       "Name: observed_otus, dtype: int64"
      ]
     },
     "execution_count": 10,
     "metadata": {},
     "output_type": "execute_result"
    }
   ],
   "source": [
    "from qiime2.plugins import diversity\n",
    "alpha_result = diversity.methods.alpha(table=rarefied_table, metric='observed_otus')\n",
    "alpha_diversity = alpha_result.alpha_diversity\n",
    "alpha_diversity.view(pd.Series)"
   ]
  },
  {
   "cell_type": "markdown",
   "metadata": {},
   "source": [
    "save our Artifacts as .qza files and exit the interpreter as follows:\n",
    "    "
   ]
  },
  {
   "cell_type": "code",
   "execution_count": null,
   "metadata": {},
   "outputs": [],
   "source": [
    "# rarefied_table.save('rare.qza')\n",
    "# alpha_diversity.save('oo.qza')"
   ]
  },
  {
   "cell_type": "code",
   "execution_count": 11,
   "metadata": {},
   "outputs": [],
   "source": [
    "from qiime2 import Metadata\n",
    "metadata = Metadata.load('sample-metadata.tsv')\n",
    "group_significance = diversity.actions.alpha_group_significance(alpha_diversity=alpha_diversity, metadata=metadata)"
   ]
  },
  {
   "cell_type": "code",
   "execution_count": 12,
   "metadata": {},
   "outputs": [
    {
     "data": {
      "text/plain": [
       "qiime2.sdk.results.Results"
      ]
     },
     "execution_count": 12,
     "metadata": {},
     "output_type": "execute_result"
    }
   ],
   "source": [
    "type(group_significance)"
   ]
  },
  {
   "cell_type": "code",
   "execution_count": 15,
   "metadata": {},
   "outputs": [
    {
     "ename": "TypeError",
     "evalue": "'Visualization' object is not callable",
     "output_type": "error",
     "traceback": [
      "\u001b[0;31m---------------------------------------------------------------------------\u001b[0m",
      "\u001b[0;31mTypeError\u001b[0m                                 Traceback (most recent call last)",
      "\u001b[0;32m<ipython-input-15-561df4047f80>\u001b[0m in \u001b[0;36m<module>\u001b[0;34m\u001b[0m\n\u001b[0;32m----> 1\u001b[0;31m \u001b[0mgroup_significance\u001b[0m\u001b[0;34m.\u001b[0m\u001b[0mvisualization\u001b[0m\u001b[0;34m(\u001b[0m\u001b[0;34m)\u001b[0m\u001b[0;34m\u001b[0m\u001b[0;34m\u001b[0m\u001b[0m\n\u001b[0m",
      "\u001b[0;31mTypeError\u001b[0m: 'Visualization' object is not callable"
     ]
    }
   ],
   "source": [
    "group_significance.visualization()"
   ]
  }
 ],
 "metadata": {
  "kernelspec": {
   "display_name": "Python 3",
   "language": "python",
   "name": "python3"
  },
  "language_info": {
   "codemirror_mode": {
    "name": "ipython",
    "version": 3
   },
   "file_extension": ".py",
   "mimetype": "text/x-python",
   "name": "python",
   "nbconvert_exporter": "python",
   "pygments_lexer": "ipython3",
   "version": "3.6.7"
  }
 },
 "nbformat": 4,
 "nbformat_minor": 2
}
